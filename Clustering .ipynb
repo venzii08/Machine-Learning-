{
 "cells": [
  {
   "cell_type": "code",
   "execution_count": 79,
   "metadata": {},
   "outputs": [],
   "source": [
    "import numpy as np \n",
    "import matplotlib.pyplot as plt\n",
    "import pandas as pd\n",
    "from sklearn.cluster import KMeans\n",
    "from sklearn.preprocessing import LabelEncoder\n",
    "from category_encoders import *"
   ]
  },
  {
   "cell_type": "code",
   "execution_count": 80,
   "metadata": {
    "scrolled": true
   },
   "outputs": [
    {
     "data": {
      "text/html": [
       "<div>\n",
       "<style scoped>\n",
       "    .dataframe tbody tr th:only-of-type {\n",
       "        vertical-align: middle;\n",
       "    }\n",
       "\n",
       "    .dataframe tbody tr th {\n",
       "        vertical-align: top;\n",
       "    }\n",
       "\n",
       "    .dataframe thead th {\n",
       "        text-align: right;\n",
       "    }\n",
       "</style>\n",
       "<table border=\"1\" class=\"dataframe\">\n",
       "  <thead>\n",
       "    <tr style=\"text-align: right;\">\n",
       "      <th></th>\n",
       "      <th>Channel</th>\n",
       "      <th>Category</th>\n",
       "      <th>Sub Category</th>\n",
       "      <th>Manufacturer</th>\n",
       "      <th>Brand</th>\n",
       "      <th>Revenue</th>\n",
       "      <th>Date</th>\n",
       "      <th>Units</th>\n",
       "      <th>Price</th>\n",
       "      <th>Price Tier</th>\n",
       "    </tr>\n",
       "  </thead>\n",
       "  <tbody>\n",
       "    <tr>\n",
       "      <th>0</th>\n",
       "      <td>MASS</td>\n",
       "      <td>FRAG MASS</td>\n",
       "      <td>WOMEN</td>\n",
       "      <td>CHANEL INC</td>\n",
       "      <td>CHANEL</td>\n",
       "      <td>0.0</td>\n",
       "      <td>8/1/2017</td>\n",
       "      <td>82</td>\n",
       "      <td>0</td>\n",
       "      <td>a.less than $25</td>\n",
       "    </tr>\n",
       "    <tr>\n",
       "      <th>1</th>\n",
       "      <td>PRESTIGE</td>\n",
       "      <td>FRAGRANCES</td>\n",
       "      <td>MEN</td>\n",
       "      <td>CHANEL INC</td>\n",
       "      <td>CHANEL</td>\n",
       "      <td>6253422.0</td>\n",
       "      <td>8/1/2017</td>\n",
       "      <td>23</td>\n",
       "      <td>271888</td>\n",
       "      <td>d.$100+</td>\n",
       "    </tr>\n",
       "    <tr>\n",
       "      <th>2</th>\n",
       "      <td>PRESTIGE</td>\n",
       "      <td>FRAGRANCES</td>\n",
       "      <td>WOMEN</td>\n",
       "      <td>CHANEL INC</td>\n",
       "      <td>CHANEL</td>\n",
       "      <td>17512844.0</td>\n",
       "      <td>8/1/2017</td>\n",
       "      <td>87</td>\n",
       "      <td>201297</td>\n",
       "      <td>d.$100+</td>\n",
       "    </tr>\n",
       "    <tr>\n",
       "      <th>3</th>\n",
       "      <td>PRESTIGE</td>\n",
       "      <td>MAKEUP</td>\n",
       "      <td>MAKEUP TOTAL ALL OTHER</td>\n",
       "      <td>CHANEL INC</td>\n",
       "      <td>CHANEL</td>\n",
       "      <td>-957.0</td>\n",
       "      <td>8/1/2017</td>\n",
       "      <td>58</td>\n",
       "      <td>-17</td>\n",
       "      <td>a.less than $25</td>\n",
       "    </tr>\n",
       "    <tr>\n",
       "      <th>4</th>\n",
       "      <td>PRESTIGE</td>\n",
       "      <td>MAKEUP</td>\n",
       "      <td>MAKEUP TOTAL EYE</td>\n",
       "      <td>CHANEL INC</td>\n",
       "      <td>CHANEL</td>\n",
       "      <td>3763488.0</td>\n",
       "      <td>8/1/2017</td>\n",
       "      <td>56</td>\n",
       "      <td>67205</td>\n",
       "      <td>c.$50 - $100</td>\n",
       "    </tr>\n",
       "  </tbody>\n",
       "</table>\n",
       "</div>"
      ],
      "text/plain": [
       "    Channel    Category            Sub Category Manufacturer   Brand  \\\n",
       "0      MASS   FRAG MASS                   WOMEN   CHANEL INC  CHANEL   \n",
       "1  PRESTIGE  FRAGRANCES                     MEN   CHANEL INC  CHANEL   \n",
       "2  PRESTIGE  FRAGRANCES                   WOMEN   CHANEL INC  CHANEL   \n",
       "3  PRESTIGE      MAKEUP  MAKEUP TOTAL ALL OTHER   CHANEL INC  CHANEL   \n",
       "4  PRESTIGE      MAKEUP        MAKEUP TOTAL EYE   CHANEL INC  CHANEL   \n",
       "\n",
       "      Revenue      Date  Units   Price       Price Tier  \n",
       "0         0.0  8/1/2017     82       0  a.less than $25  \n",
       "1   6253422.0  8/1/2017     23  271888          d.$100+  \n",
       "2  17512844.0  8/1/2017     87  201297          d.$100+  \n",
       "3      -957.0  8/1/2017     58     -17  a.less than $25  \n",
       "4   3763488.0  8/1/2017     56   67205     c.$50 - $100  "
      ]
     },
     "execution_count": 80,
     "metadata": {},
     "output_type": "execute_result"
    }
   ],
   "source": [
    "df = pd.read_csv(\"/Users/shyam.muralidharan/Downloads/Revlon Dataset Updated Aug 2019.csv\")\n",
    "df.head()"
   ]
  },
  {
   "cell_type": "code",
   "execution_count": 81,
   "metadata": {},
   "outputs": [],
   "source": [
    "df = df.drop(['Date'], axis = 1)\n"
   ]
  },
  {
   "cell_type": "code",
   "execution_count": 82,
   "metadata": {
    "scrolled": true
   },
   "outputs": [
    {
     "data": {
      "text/html": [
       "<div>\n",
       "<style scoped>\n",
       "    .dataframe tbody tr th:only-of-type {\n",
       "        vertical-align: middle;\n",
       "    }\n",
       "\n",
       "    .dataframe tbody tr th {\n",
       "        vertical-align: top;\n",
       "    }\n",
       "\n",
       "    .dataframe thead th {\n",
       "        text-align: right;\n",
       "    }\n",
       "</style>\n",
       "<table border=\"1\" class=\"dataframe\">\n",
       "  <thead>\n",
       "    <tr style=\"text-align: right;\">\n",
       "      <th></th>\n",
       "      <th>Channel</th>\n",
       "      <th>Category</th>\n",
       "      <th>Sub Category</th>\n",
       "      <th>Manufacturer</th>\n",
       "      <th>Brand</th>\n",
       "      <th>Revenue</th>\n",
       "      <th>Units</th>\n",
       "      <th>Price</th>\n",
       "      <th>Price Tier</th>\n",
       "    </tr>\n",
       "  </thead>\n",
       "  <tbody>\n",
       "    <tr>\n",
       "      <th>0</th>\n",
       "      <td>MASS</td>\n",
       "      <td>FRAG MASS</td>\n",
       "      <td>WOMEN</td>\n",
       "      <td>CHANEL INC</td>\n",
       "      <td>CHANEL</td>\n",
       "      <td>0.0</td>\n",
       "      <td>82</td>\n",
       "      <td>0</td>\n",
       "      <td>a.less than $25</td>\n",
       "    </tr>\n",
       "    <tr>\n",
       "      <th>1</th>\n",
       "      <td>PRESTIGE</td>\n",
       "      <td>FRAGRANCES</td>\n",
       "      <td>MEN</td>\n",
       "      <td>CHANEL INC</td>\n",
       "      <td>CHANEL</td>\n",
       "      <td>6253422.0</td>\n",
       "      <td>23</td>\n",
       "      <td>271888</td>\n",
       "      <td>d.$100+</td>\n",
       "    </tr>\n",
       "    <tr>\n",
       "      <th>2</th>\n",
       "      <td>PRESTIGE</td>\n",
       "      <td>FRAGRANCES</td>\n",
       "      <td>WOMEN</td>\n",
       "      <td>CHANEL INC</td>\n",
       "      <td>CHANEL</td>\n",
       "      <td>17512844.0</td>\n",
       "      <td>87</td>\n",
       "      <td>201297</td>\n",
       "      <td>d.$100+</td>\n",
       "    </tr>\n",
       "    <tr>\n",
       "      <th>3</th>\n",
       "      <td>PRESTIGE</td>\n",
       "      <td>MAKEUP</td>\n",
       "      <td>MAKEUP TOTAL ALL OTHER</td>\n",
       "      <td>CHANEL INC</td>\n",
       "      <td>CHANEL</td>\n",
       "      <td>-957.0</td>\n",
       "      <td>58</td>\n",
       "      <td>-17</td>\n",
       "      <td>a.less than $25</td>\n",
       "    </tr>\n",
       "    <tr>\n",
       "      <th>4</th>\n",
       "      <td>PRESTIGE</td>\n",
       "      <td>MAKEUP</td>\n",
       "      <td>MAKEUP TOTAL EYE</td>\n",
       "      <td>CHANEL INC</td>\n",
       "      <td>CHANEL</td>\n",
       "      <td>3763488.0</td>\n",
       "      <td>56</td>\n",
       "      <td>67205</td>\n",
       "      <td>c.$50 - $100</td>\n",
       "    </tr>\n",
       "    <tr>\n",
       "      <th>...</th>\n",
       "      <td>...</td>\n",
       "      <td>...</td>\n",
       "      <td>...</td>\n",
       "      <td>...</td>\n",
       "      <td>...</td>\n",
       "      <td>...</td>\n",
       "      <td>...</td>\n",
       "      <td>...</td>\n",
       "      <td>...</td>\n",
       "    </tr>\n",
       "    <tr>\n",
       "      <th>6870</th>\n",
       "      <td>PRESTIGE</td>\n",
       "      <td>MAKEUP</td>\n",
       "      <td>MAKEUP TOTAL FACE</td>\n",
       "      <td>LOREAL INC</td>\n",
       "      <td>URBAN DECAY</td>\n",
       "      <td>15440296.0</td>\n",
       "      <td>52</td>\n",
       "      <td>296929</td>\n",
       "      <td>d.$100+</td>\n",
       "    </tr>\n",
       "    <tr>\n",
       "      <th>6871</th>\n",
       "      <td>PRESTIGE</td>\n",
       "      <td>MAKEUP</td>\n",
       "      <td>MAKEUP TOTAL LIP</td>\n",
       "      <td>LOREAL INC</td>\n",
       "      <td>URBAN DECAY</td>\n",
       "      <td>2679173.0</td>\n",
       "      <td>94</td>\n",
       "      <td>28502</td>\n",
       "      <td>c.$50 - $100</td>\n",
       "    </tr>\n",
       "    <tr>\n",
       "      <th>6872</th>\n",
       "      <td>PRESTIGE</td>\n",
       "      <td>MAKEUP</td>\n",
       "      <td>MAKEUP TOTAL NAIL</td>\n",
       "      <td>LOREAL INC</td>\n",
       "      <td>URBAN DECAY</td>\n",
       "      <td>458.0</td>\n",
       "      <td>89</td>\n",
       "      <td>5</td>\n",
       "      <td>a.less than $25</td>\n",
       "    </tr>\n",
       "    <tr>\n",
       "      <th>6873</th>\n",
       "      <td>PRESTIGE</td>\n",
       "      <td>MAKEUP</td>\n",
       "      <td>MAKEUP TOTAL SETS</td>\n",
       "      <td>LOREAL INC</td>\n",
       "      <td>URBAN DECAY</td>\n",
       "      <td>609980.0</td>\n",
       "      <td>10</td>\n",
       "      <td>60998</td>\n",
       "      <td>c.$50 - $100</td>\n",
       "    </tr>\n",
       "    <tr>\n",
       "      <th>6874</th>\n",
       "      <td>PRESTIGE</td>\n",
       "      <td>SKINCARE</td>\n",
       "      <td>SKINCARE TOTAL FACE</td>\n",
       "      <td>LOREAL INC</td>\n",
       "      <td>URBAN DECAY</td>\n",
       "      <td>73159.0</td>\n",
       "      <td>71</td>\n",
       "      <td>1030</td>\n",
       "      <td>a.less than $25</td>\n",
       "    </tr>\n",
       "  </tbody>\n",
       "</table>\n",
       "<p>6875 rows × 9 columns</p>\n",
       "</div>"
      ],
      "text/plain": [
       "       Channel    Category            Sub Category Manufacturer        Brand  \\\n",
       "0         MASS   FRAG MASS                   WOMEN   CHANEL INC       CHANEL   \n",
       "1     PRESTIGE  FRAGRANCES                     MEN   CHANEL INC       CHANEL   \n",
       "2     PRESTIGE  FRAGRANCES                   WOMEN   CHANEL INC       CHANEL   \n",
       "3     PRESTIGE      MAKEUP  MAKEUP TOTAL ALL OTHER   CHANEL INC       CHANEL   \n",
       "4     PRESTIGE      MAKEUP        MAKEUP TOTAL EYE   CHANEL INC       CHANEL   \n",
       "...        ...         ...                     ...          ...          ...   \n",
       "6870  PRESTIGE      MAKEUP       MAKEUP TOTAL FACE   LOREAL INC  URBAN DECAY   \n",
       "6871  PRESTIGE      MAKEUP        MAKEUP TOTAL LIP   LOREAL INC  URBAN DECAY   \n",
       "6872  PRESTIGE      MAKEUP       MAKEUP TOTAL NAIL   LOREAL INC  URBAN DECAY   \n",
       "6873  PRESTIGE      MAKEUP       MAKEUP TOTAL SETS   LOREAL INC  URBAN DECAY   \n",
       "6874  PRESTIGE    SKINCARE     SKINCARE TOTAL FACE   LOREAL INC  URBAN DECAY   \n",
       "\n",
       "         Revenue  Units   Price       Price Tier  \n",
       "0            0.0     82       0  a.less than $25  \n",
       "1      6253422.0     23  271888          d.$100+  \n",
       "2     17512844.0     87  201297          d.$100+  \n",
       "3         -957.0     58     -17  a.less than $25  \n",
       "4      3763488.0     56   67205     c.$50 - $100  \n",
       "...          ...    ...     ...              ...  \n",
       "6870  15440296.0     52  296929          d.$100+  \n",
       "6871   2679173.0     94   28502     c.$50 - $100  \n",
       "6872       458.0     89       5  a.less than $25  \n",
       "6873    609980.0     10   60998     c.$50 - $100  \n",
       "6874     73159.0     71    1030  a.less than $25  \n",
       "\n",
       "[6875 rows x 9 columns]"
      ]
     },
     "execution_count": 82,
     "metadata": {},
     "output_type": "execute_result"
    }
   ],
   "source": [
    "df"
   ]
  },
  {
   "cell_type": "code",
   "execution_count": 83,
   "metadata": {},
   "outputs": [
    {
     "data": {
      "text/plain": [
       "Channel         0\n",
       "Category        0\n",
       "Sub Category    0\n",
       "Manufacturer    0\n",
       "Brand           0\n",
       "Revenue         0\n",
       "Units           0\n",
       "Price           0\n",
       "Price Tier      0\n",
       "ratio           0\n",
       "dtype: int64"
      ]
     },
     "execution_count": 83,
     "metadata": {},
     "output_type": "execute_result"
    }
   ],
   "source": [
    "dims = [\"Revenue\", \"Units\"]\n",
    "dim_1 = dims[0]\n",
    "dim_2 = dims[1]\n",
    "df['ratio'] = df[dim_1]/df[dim_2]\n",
    "df = df[~df.isin([np.nan, np.inf, -np.inf]).any(1)]\n",
    "df.isnull().values.any()\n",
    "df.isnull().sum()\n"
   ]
  },
  {
   "cell_type": "code",
   "execution_count": 84,
   "metadata": {},
   "outputs": [
    {
     "data": {
      "text/plain": [
       "100701579.40798967"
      ]
     },
     "execution_count": 84,
     "metadata": {},
     "output_type": "execute_result"
    }
   ],
   "source": [
    "nwe = df['ratio'][df['Brand'] == 'CHANEL'].sum()\n",
    "nwe"
   ]
  },
  {
   "cell_type": "code",
   "execution_count": 86,
   "metadata": {},
   "outputs": [],
   "source": [
    "brand_list = list(df['Manufacturer'].unique())\n",
    "# revenue = list(df.iloc[:,5:8].columns)\n",
    "revenue = list(df.loc[:, ['ratio']])"
   ]
  },
  {
   "cell_type": "code",
   "execution_count": 70,
   "metadata": {},
   "outputs": [
    {
     "data": {
      "text/plain": [
       "['ratio']"
      ]
     },
     "execution_count": 70,
     "metadata": {},
     "output_type": "execute_result"
    }
   ],
   "source": [
    "revenue"
   ]
  },
  {
   "cell_type": "code",
   "execution_count": null,
   "metadata": {},
   "outputs": [],
   "source": []
  },
  {
   "cell_type": "code",
   "execution_count": 71,
   "metadata": {},
   "outputs": [
    {
     "data": {
      "image/png": "[encoded data removed]",
      "text/plain": [
       "<Figure size 1728x864 with 1 Axes>"
      ]
     },
     "metadata": {
      "needs_background": "light"
     },
     "output_type": "display_data"
    }
   ],
   "source": [
    "plt.figure(figsize=(24,12))\n",
    "for ar in brand_list:\n",
    "    revenue_produce = []\n",
    "    for yr in revenue:\n",
    "        revenue_produce.append(df[yr][df['Manufacturer'] == ar].sum())\n",
    "    plt.plot(revenue_produce, label=ar)\n",
    "plt.xticks(np.arange(53), tuple(brand_list), rotation=60)\n",
    "plt.legend(bbox_to_anchor=(0., 1.02, 1., .102), loc=3, ncol=8, mode=\"expand\", borderaxespad=0.)\n",
    "\n",
    "plt.show()"
   ]
  },
  {
   "cell_type": "code",
   "execution_count": 72,
   "metadata": {},
   "outputs": [
    {
     "data": {
      "text/html": [
       "<div>\n",
       "<style scoped>\n",
       "    .dataframe tbody tr th:only-of-type {\n",
       "        vertical-align: middle;\n",
       "    }\n",
       "\n",
       "    .dataframe tbody tr th {\n",
       "        vertical-align: top;\n",
       "    }\n",
       "\n",
       "    .dataframe thead th {\n",
       "        text-align: right;\n",
       "    }\n",
       "</style>\n",
       "<table border=\"1\" class=\"dataframe\">\n",
       "  <thead>\n",
       "    <tr style=\"text-align: right;\">\n",
       "      <th></th>\n",
       "      <th>CHANEL INC</th>\n",
       "      <th>ESTEE LAUDER INC</th>\n",
       "      <th>COTY CORP</th>\n",
       "      <th>UNILEVER CORP</th>\n",
       "      <th>LOREAL SA</th>\n",
       "      <th>LOREAL INC</th>\n",
       "      <th>LOREAL USA</th>\n",
       "      <th>LOREAL SA CORP</th>\n",
       "      <th>JOHNSON &amp; JOHNSON</th>\n",
       "      <th>PROCTER &amp; GAMBLE COMPANY</th>\n",
       "      <th>PRIVATE LABEL</th>\n",
       "      <th>REVLON CORP</th>\n",
       "      <th>MACANDREWS FORBES HOLDINGS INC</th>\n",
       "      <th>HELEN OF TROY LTD</th>\n",
       "      <th>P&amp;G CORP</th>\n",
       "    </tr>\n",
       "  </thead>\n",
       "  <tbody>\n",
       "    <tr>\n",
       "      <th>0</th>\n",
       "      <td>1.007016e+08</td>\n",
       "      <td>3.323089e+08</td>\n",
       "      <td>7.183584e+07</td>\n",
       "      <td>9.295927e+07</td>\n",
       "      <td>9.953314e+07</td>\n",
       "      <td>2.534066e+08</td>\n",
       "      <td>135435.295517</td>\n",
       "      <td>2.777640e+08</td>\n",
       "      <td>7.235039e+07</td>\n",
       "      <td>1.029952e+08</td>\n",
       "      <td>6.281262e+07</td>\n",
       "      <td>8.664487e+07</td>\n",
       "      <td>519525.794543</td>\n",
       "      <td>2666.863857</td>\n",
       "      <td>6.867448e+07</td>\n",
       "    </tr>\n",
       "  </tbody>\n",
       "</table>\n",
       "</div>"
      ],
      "text/plain": [
       "     CHANEL INC  ESTEE LAUDER INC     COTY CORP  UNILEVER CORP     LOREAL SA  \\\n",
       "0  1.007016e+08      3.323089e+08  7.183584e+07   9.295927e+07  9.953314e+07   \n",
       "\n",
       "     LOREAL INC     LOREAL USA  LOREAL SA CORP  JOHNSON & JOHNSON  \\\n",
       "0  2.534066e+08  135435.295517    2.777640e+08       7.235039e+07   \n",
       "\n",
       "   PROCTER & GAMBLE COMPANY  PRIVATE LABEL   REVLON CORP  \\\n",
       "0              1.029952e+08   6.281262e+07  8.664487e+07   \n",
       "\n",
       "   MACANDREWS FORBES HOLDINGS INC  HELEN OF TROY LTD      P&G CORP  \n",
       "0                   519525.794543        2666.863857  6.867448e+07  "
      ]
     },
     "execution_count": 72,
     "metadata": {},
     "output_type": "execute_result"
    }
   ],
   "source": [
    "new_df_dict = {}\n",
    "for ar in brand_list:\n",
    "    yearly_produce = []\n",
    "    for yr in revenue:\n",
    "        yearly_produce.append(df[yr][df['Manufacturer']==ar].sum())\n",
    "    new_df_dict[ar] = yearly_produce\n",
    "new_df = pd.DataFrame(new_df_dict)\n",
    "\n",
    "new_df.head()"
   ]
  },
  {
   "cell_type": "code",
   "execution_count": 73,
   "metadata": {},
   "outputs": [],
   "source": [
    "# from sklearn import preprocessing\n",
    "# # Get column names first\n",
    "# names = new_df.columns\n",
    "# # Create the Scaler object\n",
    "# scaler = preprocessing.StandardScaler()\n",
    "# # Fit your data on the scaler object\n",
    "# scaled_df = scaler.fit_transform(new_df)\n",
    "# new_df = pd.DataFrame(scaled_df, columns=names)\n",
    "# new_df"
   ]
  },
  {
   "cell_type": "code",
   "execution_count": 74,
   "metadata": {},
   "outputs": [
    {
     "data": {
      "text/plain": [
       "(15, 1)"
      ]
     },
     "execution_count": 74,
     "metadata": {},
     "output_type": "execute_result"
    }
   ],
   "source": [
    "new_df = pd.DataFrame.transpose(new_df)\n",
    "new_df.columns = revenue\n",
    "\n",
    "new_df.head()\n",
    "new_df.shape"
   ]
  },
  {
   "cell_type": "code",
   "execution_count": 75,
   "metadata": {},
   "outputs": [
    {
     "data": {
      "text/plain": [
       "15"
      ]
     },
     "execution_count": 75,
     "metadata": {},
     "output_type": "execute_result"
    }
   ],
   "source": [
    "new = new_df.shape[0]\n",
    "new"
   ]
  },
  {
   "cell_type": "code",
   "execution_count": 76,
   "metadata": {},
   "outputs": [
    {
     "data": {
      "text/html": [
       "<div>\n",
       "<style scoped>\n",
       "    .dataframe tbody tr th:only-of-type {\n",
       "        vertical-align: middle;\n",
       "    }\n",
       "\n",
       "    .dataframe tbody tr th {\n",
       "        vertical-align: top;\n",
       "    }\n",
       "\n",
       "    .dataframe thead th {\n",
       "        text-align: right;\n",
       "    }\n",
       "</style>\n",
       "<table border=\"1\" class=\"dataframe\">\n",
       "  <thead>\n",
       "    <tr style=\"text-align: right;\">\n",
       "      <th></th>\n",
       "      <th>ratio</th>\n",
       "      <th>Mean_Produce</th>\n",
       "      <th>Rank</th>\n",
       "    </tr>\n",
       "  </thead>\n",
       "  <tbody>\n",
       "    <tr>\n",
       "      <th>CHANEL INC</th>\n",
       "      <td>1.007016e+08</td>\n",
       "      <td>1.007016e+08</td>\n",
       "      <td>5.0</td>\n",
       "    </tr>\n",
       "    <tr>\n",
       "      <th>ESTEE LAUDER INC</th>\n",
       "      <td>3.323089e+08</td>\n",
       "      <td>3.323089e+08</td>\n",
       "      <td>1.0</td>\n",
       "    </tr>\n",
       "    <tr>\n",
       "      <th>COTY CORP</th>\n",
       "      <td>7.183584e+07</td>\n",
       "      <td>7.183584e+07</td>\n",
       "      <td>10.0</td>\n",
       "    </tr>\n",
       "    <tr>\n",
       "      <th>UNILEVER CORP</th>\n",
       "      <td>9.295927e+07</td>\n",
       "      <td>9.295927e+07</td>\n",
       "      <td>7.0</td>\n",
       "    </tr>\n",
       "    <tr>\n",
       "      <th>LOREAL SA</th>\n",
       "      <td>9.953314e+07</td>\n",
       "      <td>9.953314e+07</td>\n",
       "      <td>6.0</td>\n",
       "    </tr>\n",
       "    <tr>\n",
       "      <th>LOREAL INC</th>\n",
       "      <td>2.534066e+08</td>\n",
       "      <td>2.534066e+08</td>\n",
       "      <td>3.0</td>\n",
       "    </tr>\n",
       "    <tr>\n",
       "      <th>LOREAL USA</th>\n",
       "      <td>1.354353e+05</td>\n",
       "      <td>1.354353e+05</td>\n",
       "      <td>14.0</td>\n",
       "    </tr>\n",
       "    <tr>\n",
       "      <th>LOREAL SA CORP</th>\n",
       "      <td>2.777640e+08</td>\n",
       "      <td>2.777640e+08</td>\n",
       "      <td>2.0</td>\n",
       "    </tr>\n",
       "    <tr>\n",
       "      <th>JOHNSON &amp; JOHNSON</th>\n",
       "      <td>7.235039e+07</td>\n",
       "      <td>7.235039e+07</td>\n",
       "      <td>9.0</td>\n",
       "    </tr>\n",
       "    <tr>\n",
       "      <th>PROCTER &amp; GAMBLE COMPANY</th>\n",
       "      <td>1.029952e+08</td>\n",
       "      <td>1.029952e+08</td>\n",
       "      <td>4.0</td>\n",
       "    </tr>\n",
       "    <tr>\n",
       "      <th>PRIVATE LABEL</th>\n",
       "      <td>6.281262e+07</td>\n",
       "      <td>6.281262e+07</td>\n",
       "      <td>12.0</td>\n",
       "    </tr>\n",
       "    <tr>\n",
       "      <th>REVLON CORP</th>\n",
       "      <td>8.664487e+07</td>\n",
       "      <td>8.664487e+07</td>\n",
       "      <td>8.0</td>\n",
       "    </tr>\n",
       "    <tr>\n",
       "      <th>MACANDREWS FORBES HOLDINGS INC</th>\n",
       "      <td>5.195258e+05</td>\n",
       "      <td>5.195258e+05</td>\n",
       "      <td>13.0</td>\n",
       "    </tr>\n",
       "    <tr>\n",
       "      <th>HELEN OF TROY LTD</th>\n",
       "      <td>2.666864e+03</td>\n",
       "      <td>2.666864e+03</td>\n",
       "      <td>15.0</td>\n",
       "    </tr>\n",
       "    <tr>\n",
       "      <th>P&amp;G CORP</th>\n",
       "      <td>6.867448e+07</td>\n",
       "      <td>6.867448e+07</td>\n",
       "      <td>11.0</td>\n",
       "    </tr>\n",
       "  </tbody>\n",
       "</table>\n",
       "</div>"
      ],
      "text/plain": [
       "                                       ratio  Mean_Produce  Rank\n",
       "CHANEL INC                      1.007016e+08  1.007016e+08   5.0\n",
       "ESTEE LAUDER INC                3.323089e+08  3.323089e+08   1.0\n",
       "COTY CORP                       7.183584e+07  7.183584e+07  10.0\n",
       "UNILEVER CORP                   9.295927e+07  9.295927e+07   7.0\n",
       "LOREAL SA                       9.953314e+07  9.953314e+07   6.0\n",
       "LOREAL INC                      2.534066e+08  2.534066e+08   3.0\n",
       "LOREAL USA                      1.354353e+05  1.354353e+05  14.0\n",
       "LOREAL SA CORP                  2.777640e+08  2.777640e+08   2.0\n",
       "JOHNSON & JOHNSON               7.235039e+07  7.235039e+07   9.0\n",
       "PROCTER & GAMBLE COMPANY        1.029952e+08  1.029952e+08   4.0\n",
       "PRIVATE LABEL                   6.281262e+07  6.281262e+07  12.0\n",
       "REVLON CORP                     8.664487e+07  8.664487e+07   8.0\n",
       "MACANDREWS FORBES HOLDINGS INC  5.195258e+05  5.195258e+05  13.0\n",
       "HELEN OF TROY LTD               2.666864e+03  2.666864e+03  15.0\n",
       "P&G CORP                        6.867448e+07  6.867448e+07  11.0"
      ]
     },
     "execution_count": 76,
     "metadata": {},
     "output_type": "execute_result"
    }
   ],
   "source": [
    "mean_produce = []\n",
    "for i in range(15):\n",
    "    mean_produce.append(new_df.iloc[i,:].values.mean())\n",
    "new_df['Mean_Produce'] = mean_produce\n",
    "\n",
    "new_df['Rank'] = new_df['Mean_Produce'].rank(ascending=False)\n",
    "\n",
    "new_df.head(30)"
   ]
  },
  {
   "cell_type": "code",
   "execution_count": 77,
   "metadata": {},
   "outputs": [
    {
     "data": {
      "text/html": [
       "<div>\n",
       "<style scoped>\n",
       "    .dataframe tbody tr th:only-of-type {\n",
       "        vertical-align: middle;\n",
       "    }\n",
       "\n",
       "    .dataframe tbody tr th {\n",
       "        vertical-align: top;\n",
       "    }\n",
       "\n",
       "    .dataframe thead th {\n",
       "        text-align: right;\n",
       "    }\n",
       "</style>\n",
       "<table border=\"1\" class=\"dataframe\">\n",
       "  <thead>\n",
       "    <tr style=\"text-align: right;\">\n",
       "      <th></th>\n",
       "      <th>ratio</th>\n",
       "      <th>Mean_Produce</th>\n",
       "      <th>Rank</th>\n",
       "    </tr>\n",
       "  </thead>\n",
       "  <tbody>\n",
       "    <tr>\n",
       "      <th>CHANEL INC</th>\n",
       "      <td>1.007016e+08</td>\n",
       "      <td>1.007016e+08</td>\n",
       "      <td>5.0</td>\n",
       "    </tr>\n",
       "    <tr>\n",
       "      <th>ESTEE LAUDER INC</th>\n",
       "      <td>3.323089e+08</td>\n",
       "      <td>3.323089e+08</td>\n",
       "      <td>1.0</td>\n",
       "    </tr>\n",
       "    <tr>\n",
       "      <th>COTY CORP</th>\n",
       "      <td>7.183584e+07</td>\n",
       "      <td>7.183584e+07</td>\n",
       "      <td>10.0</td>\n",
       "    </tr>\n",
       "    <tr>\n",
       "      <th>UNILEVER CORP</th>\n",
       "      <td>9.295927e+07</td>\n",
       "      <td>9.295927e+07</td>\n",
       "      <td>7.0</td>\n",
       "    </tr>\n",
       "    <tr>\n",
       "      <th>LOREAL SA</th>\n",
       "      <td>9.953314e+07</td>\n",
       "      <td>9.953314e+07</td>\n",
       "      <td>6.0</td>\n",
       "    </tr>\n",
       "    <tr>\n",
       "      <th>LOREAL INC</th>\n",
       "      <td>2.534066e+08</td>\n",
       "      <td>2.534066e+08</td>\n",
       "      <td>3.0</td>\n",
       "    </tr>\n",
       "    <tr>\n",
       "      <th>LOREAL USA</th>\n",
       "      <td>1.354353e+05</td>\n",
       "      <td>1.354353e+05</td>\n",
       "      <td>14.0</td>\n",
       "    </tr>\n",
       "    <tr>\n",
       "      <th>LOREAL SA CORP</th>\n",
       "      <td>2.777640e+08</td>\n",
       "      <td>2.777640e+08</td>\n",
       "      <td>2.0</td>\n",
       "    </tr>\n",
       "    <tr>\n",
       "      <th>JOHNSON &amp; JOHNSON</th>\n",
       "      <td>7.235039e+07</td>\n",
       "      <td>7.235039e+07</td>\n",
       "      <td>9.0</td>\n",
       "    </tr>\n",
       "    <tr>\n",
       "      <th>PROCTER &amp; GAMBLE COMPANY</th>\n",
       "      <td>1.029952e+08</td>\n",
       "      <td>1.029952e+08</td>\n",
       "      <td>4.0</td>\n",
       "    </tr>\n",
       "    <tr>\n",
       "      <th>PRIVATE LABEL</th>\n",
       "      <td>6.281262e+07</td>\n",
       "      <td>6.281262e+07</td>\n",
       "      <td>12.0</td>\n",
       "    </tr>\n",
       "    <tr>\n",
       "      <th>REVLON CORP</th>\n",
       "      <td>8.664487e+07</td>\n",
       "      <td>8.664487e+07</td>\n",
       "      <td>8.0</td>\n",
       "    </tr>\n",
       "    <tr>\n",
       "      <th>MACANDREWS FORBES HOLDINGS INC</th>\n",
       "      <td>5.195258e+05</td>\n",
       "      <td>5.195258e+05</td>\n",
       "      <td>13.0</td>\n",
       "    </tr>\n",
       "    <tr>\n",
       "      <th>HELEN OF TROY LTD</th>\n",
       "      <td>2.666864e+03</td>\n",
       "      <td>2.666864e+03</td>\n",
       "      <td>15.0</td>\n",
       "    </tr>\n",
       "    <tr>\n",
       "      <th>P&amp;G CORP</th>\n",
       "      <td>6.867448e+07</td>\n",
       "      <td>6.867448e+07</td>\n",
       "      <td>11.0</td>\n",
       "    </tr>\n",
       "  </tbody>\n",
       "</table>\n",
       "</div>"
      ],
      "text/plain": [
       "                                       ratio  Mean_Produce  Rank\n",
       "CHANEL INC                      1.007016e+08  1.007016e+08   5.0\n",
       "ESTEE LAUDER INC                3.323089e+08  3.323089e+08   1.0\n",
       "COTY CORP                       7.183584e+07  7.183584e+07  10.0\n",
       "UNILEVER CORP                   9.295927e+07  9.295927e+07   7.0\n",
       "LOREAL SA                       9.953314e+07  9.953314e+07   6.0\n",
       "LOREAL INC                      2.534066e+08  2.534066e+08   3.0\n",
       "LOREAL USA                      1.354353e+05  1.354353e+05  14.0\n",
       "LOREAL SA CORP                  2.777640e+08  2.777640e+08   2.0\n",
       "JOHNSON & JOHNSON               7.235039e+07  7.235039e+07   9.0\n",
       "PROCTER & GAMBLE COMPANY        1.029952e+08  1.029952e+08   4.0\n",
       "PRIVATE LABEL                   6.281262e+07  6.281262e+07  12.0\n",
       "REVLON CORP                     8.664487e+07  8.664487e+07   8.0\n",
       "MACANDREWS FORBES HOLDINGS INC  5.195258e+05  5.195258e+05  13.0\n",
       "HELEN OF TROY LTD               2.666864e+03  2.666864e+03  15.0\n",
       "P&G CORP                        6.867448e+07  6.867448e+07  11.0"
      ]
     },
     "execution_count": 77,
     "metadata": {},
     "output_type": "execute_result"
    }
   ],
   "source": [
    "new_df"
   ]
  },
  {
   "cell_type": "code",
   "execution_count": 78,
   "metadata": {},
   "outputs": [
    {
     "data": {
      "text/html": [
       "<div>\n",
       "<style scoped>\n",
       "    .dataframe tbody tr th:only-of-type {\n",
       "        vertical-align: middle;\n",
       "    }\n",
       "\n",
       "    .dataframe tbody tr th {\n",
       "        vertical-align: top;\n",
       "    }\n",
       "\n",
       "    .dataframe thead th {\n",
       "        text-align: right;\n",
       "    }\n",
       "</style>\n",
       "<table border=\"1\" class=\"dataframe\">\n",
       "  <thead>\n",
       "    <tr style=\"text-align: right;\">\n",
       "      <th></th>\n",
       "      <th>0</th>\n",
       "    </tr>\n",
       "  </thead>\n",
       "  <tbody>\n",
       "    <tr>\n",
       "      <th>0</th>\n",
       "      <td>1.007016e+08</td>\n",
       "    </tr>\n",
       "    <tr>\n",
       "      <th>1</th>\n",
       "      <td>3.323089e+08</td>\n",
       "    </tr>\n",
       "    <tr>\n",
       "      <th>2</th>\n",
       "      <td>7.183584e+07</td>\n",
       "    </tr>\n",
       "    <tr>\n",
       "      <th>3</th>\n",
       "      <td>9.295927e+07</td>\n",
       "    </tr>\n",
       "    <tr>\n",
       "      <th>4</th>\n",
       "      <td>9.953314e+07</td>\n",
       "    </tr>\n",
       "    <tr>\n",
       "      <th>5</th>\n",
       "      <td>2.534066e+08</td>\n",
       "    </tr>\n",
       "    <tr>\n",
       "      <th>6</th>\n",
       "      <td>1.354353e+05</td>\n",
       "    </tr>\n",
       "    <tr>\n",
       "      <th>7</th>\n",
       "      <td>2.777640e+08</td>\n",
       "    </tr>\n",
       "    <tr>\n",
       "      <th>8</th>\n",
       "      <td>7.235039e+07</td>\n",
       "    </tr>\n",
       "    <tr>\n",
       "      <th>9</th>\n",
       "      <td>1.029952e+08</td>\n",
       "    </tr>\n",
       "    <tr>\n",
       "      <th>10</th>\n",
       "      <td>6.281262e+07</td>\n",
       "    </tr>\n",
       "    <tr>\n",
       "      <th>11</th>\n",
       "      <td>8.664487e+07</td>\n",
       "    </tr>\n",
       "    <tr>\n",
       "      <th>12</th>\n",
       "      <td>5.195258e+05</td>\n",
       "    </tr>\n",
       "    <tr>\n",
       "      <th>13</th>\n",
       "      <td>2.666864e+03</td>\n",
       "    </tr>\n",
       "    <tr>\n",
       "      <th>14</th>\n",
       "      <td>6.867448e+07</td>\n",
       "    </tr>\n",
       "  </tbody>\n",
       "</table>\n",
       "</div>"
      ],
      "text/plain": [
       "               0\n",
       "0   1.007016e+08\n",
       "1   3.323089e+08\n",
       "2   7.183584e+07\n",
       "3   9.295927e+07\n",
       "4   9.953314e+07\n",
       "5   2.534066e+08\n",
       "6   1.354353e+05\n",
       "7   2.777640e+08\n",
       "8   7.235039e+07\n",
       "9   1.029952e+08\n",
       "10  6.281262e+07\n",
       "11  8.664487e+07\n",
       "12  5.195258e+05\n",
       "13  2.666864e+03\n",
       "14  6.867448e+07"
      ]
     },
     "execution_count": 78,
     "metadata": {},
     "output_type": "execute_result"
    }
   ],
   "source": [
    "X = new_df.iloc[:,:-2].values\n",
    "\n",
    "X = pd.DataFrame(X)\n",
    "X "
   ]
  },
  {
   "cell_type": "code",
   "execution_count": 42,
   "metadata": {},
   "outputs": [],
   "source": [
    "# from sklearn.cluster import KMeans\n",
    "# wcss = []\n",
    "# for i in range(1,11):\n",
    "#     kmeans = KMeans(n_clusters=i,init='k-means++',max_iter=300,n_init=10,random_state=0)\n",
    "#     kmeans.fit(X)\n",
    "#     wcss.append(kmeans.inertia_)\n",
    "# print(wcss)\n",
    "# plt.plot(range(1,11),wcss)\n",
    "# plt.title('The Elbow Method')\n",
    "# plt.xlabel('Number of clusters')\n",
    "# plt.ylabel('WCSS')\n",
    "# plt.show()"
   ]
  },
  {
   "cell_type": "code",
   "execution_count": 43,
   "metadata": {},
   "outputs": [
    {
     "name": "stdout",
     "output_type": "stream",
     "text": [
      "[1.4212654930544533e+17, 2.1098325560287604e+16, 5199870284021811.0, 2231843458304809.2, 533092909521382.75, 236452375659748.28, 83913653820383.31, 34207399258420.2, 14271592608139.287, 6480238301915.665]\n"
     ]
    }
   ],
   "source": [
    "wcss = []\n",
    "for n in range(1, 11):\n",
    "    kmeans = KMeans(n_clusters=n)\n",
    "    kmeans.fit(X)\n",
    "    wcss.append(kmeans.inertia_)\n",
    "    \n",
    "            \n",
    "print(wcss)"
   ]
  },
  {
   "cell_type": "code",
   "execution_count": 44,
   "metadata": {},
   "outputs": [
    {
     "name": "stdout",
     "output_type": "stream",
     "text": [
      "4\n"
     ]
    }
   ],
   "source": [
    "from math import sqrt\n",
    "x1, y1 = 1, wcss[0]\n",
    "x2, y2 = 11, wcss[len(wcss)-1]\n",
    "\n",
    "distances = []\n",
    "for i in range(len(wcss)):\n",
    "    x0 = i+2\n",
    "    y0 = wcss[i]\n",
    "    numerator = abs((y2-y1)*x0 - (x2-x1)*y0 + x2*y1 - y2*x1)\n",
    "    denominator = sqrt((y2 - y1)**2 + (x2 - x1)**2)\n",
    "    distances.append(numerator/denominator)\n",
    "    \n",
    "print(distances.index(max(distances)) + 2)"
   ]
  },
  {
   "cell_type": "code",
   "execution_count": 45,
   "metadata": {},
   "outputs": [
    {
     "name": "stderr",
     "output_type": "stream",
     "text": [
      "/Users/shyam.muralidharan/anaconda3/lib/python3.7/site-packages/ipykernel_launcher.py:4: FutureWarning: Method .as_matrix will be removed in a future version. Use .values instead.\n",
      "  after removing the cwd from sys.path.\n"
     ]
    }
   ],
   "source": [
    "kmeans = KMeans(n_clusters=4,init='k-means++',max_iter=300,n_init=10,random_state=0) \n",
    "y_kmeans = kmeans.fit_predict(X)\n",
    "\n",
    "X = X.as_matrix(columns=None)"
   ]
  },
  {
   "cell_type": "code",
   "execution_count": 46,
   "metadata": {},
   "outputs": [
    {
     "data": {
      "text/plain": [
       "array([[1.00701579e+08],\n",
       "       [3.32308900e+08],\n",
       "       [7.18358409e+07],\n",
       "       [9.29592669e+07],\n",
       "       [9.95331385e+07],\n",
       "       [2.53406609e+08],\n",
       "       [1.35435296e+05],\n",
       "       [2.77763970e+08],\n",
       "       [7.23503872e+07],\n",
       "       [1.02995153e+08],\n",
       "       [6.28126245e+07],\n",
       "       [8.66448696e+07],\n",
       "       [5.19525795e+05],\n",
       "       [2.66686386e+03],\n",
       "       [6.86744840e+07]])"
      ]
     },
     "execution_count": 46,
     "metadata": {},
     "output_type": "execute_result"
    }
   ],
   "source": [
    "X"
   ]
  },
  {
   "cell_type": "code",
   "execution_count": 47,
   "metadata": {},
   "outputs": [
    {
     "data": {
      "text/html": [
       "<div>\n",
       "<style scoped>\n",
       "    .dataframe tbody tr th:only-of-type {\n",
       "        vertical-align: middle;\n",
       "    }\n",
       "\n",
       "    .dataframe tbody tr th {\n",
       "        vertical-align: top;\n",
       "    }\n",
       "\n",
       "    .dataframe thead th {\n",
       "        text-align: right;\n",
       "    }\n",
       "</style>\n",
       "<table border=\"1\" class=\"dataframe\">\n",
       "  <thead>\n",
       "    <tr style=\"text-align: right;\">\n",
       "      <th></th>\n",
       "      <th>ratio</th>\n",
       "      <th>Mean_Produce</th>\n",
       "      <th>Rank</th>\n",
       "      <th>cluster</th>\n",
       "    </tr>\n",
       "  </thead>\n",
       "  <tbody>\n",
       "    <tr>\n",
       "      <th>CHANEL INC</th>\n",
       "      <td>1.007016e+08</td>\n",
       "      <td>1.007016e+08</td>\n",
       "      <td>5.0</td>\n",
       "      <td>2</td>\n",
       "    </tr>\n",
       "    <tr>\n",
       "      <th>ESTEE LAUDER INC</th>\n",
       "      <td>3.323089e+08</td>\n",
       "      <td>3.323089e+08</td>\n",
       "      <td>1.0</td>\n",
       "      <td>3</td>\n",
       "    </tr>\n",
       "    <tr>\n",
       "      <th>COTY CORP</th>\n",
       "      <td>7.183584e+07</td>\n",
       "      <td>7.183584e+07</td>\n",
       "      <td>10.0</td>\n",
       "      <td>2</td>\n",
       "    </tr>\n",
       "    <tr>\n",
       "      <th>UNILEVER CORP</th>\n",
       "      <td>9.295927e+07</td>\n",
       "      <td>9.295927e+07</td>\n",
       "      <td>7.0</td>\n",
       "      <td>2</td>\n",
       "    </tr>\n",
       "    <tr>\n",
       "      <th>LOREAL SA</th>\n",
       "      <td>9.953314e+07</td>\n",
       "      <td>9.953314e+07</td>\n",
       "      <td>6.0</td>\n",
       "      <td>2</td>\n",
       "    </tr>\n",
       "    <tr>\n",
       "      <th>LOREAL INC</th>\n",
       "      <td>2.534066e+08</td>\n",
       "      <td>2.534066e+08</td>\n",
       "      <td>3.0</td>\n",
       "      <td>1</td>\n",
       "    </tr>\n",
       "    <tr>\n",
       "      <th>LOREAL USA</th>\n",
       "      <td>1.354353e+05</td>\n",
       "      <td>1.354353e+05</td>\n",
       "      <td>14.0</td>\n",
       "      <td>0</td>\n",
       "    </tr>\n",
       "    <tr>\n",
       "      <th>LOREAL SA CORP</th>\n",
       "      <td>2.777640e+08</td>\n",
       "      <td>2.777640e+08</td>\n",
       "      <td>2.0</td>\n",
       "      <td>1</td>\n",
       "    </tr>\n",
       "    <tr>\n",
       "      <th>JOHNSON &amp; JOHNSON</th>\n",
       "      <td>7.235039e+07</td>\n",
       "      <td>7.235039e+07</td>\n",
       "      <td>9.0</td>\n",
       "      <td>2</td>\n",
       "    </tr>\n",
       "    <tr>\n",
       "      <th>PROCTER &amp; GAMBLE COMPANY</th>\n",
       "      <td>1.029952e+08</td>\n",
       "      <td>1.029952e+08</td>\n",
       "      <td>4.0</td>\n",
       "      <td>2</td>\n",
       "    </tr>\n",
       "    <tr>\n",
       "      <th>PRIVATE LABEL</th>\n",
       "      <td>6.281262e+07</td>\n",
       "      <td>6.281262e+07</td>\n",
       "      <td>12.0</td>\n",
       "      <td>2</td>\n",
       "    </tr>\n",
       "    <tr>\n",
       "      <th>REVLON CORP</th>\n",
       "      <td>8.664487e+07</td>\n",
       "      <td>8.664487e+07</td>\n",
       "      <td>8.0</td>\n",
       "      <td>2</td>\n",
       "    </tr>\n",
       "    <tr>\n",
       "      <th>MACANDREWS FORBES HOLDINGS INC</th>\n",
       "      <td>5.195258e+05</td>\n",
       "      <td>5.195258e+05</td>\n",
       "      <td>13.0</td>\n",
       "      <td>0</td>\n",
       "    </tr>\n",
       "    <tr>\n",
       "      <th>HELEN OF TROY LTD</th>\n",
       "      <td>2.666864e+03</td>\n",
       "      <td>2.666864e+03</td>\n",
       "      <td>15.0</td>\n",
       "      <td>0</td>\n",
       "    </tr>\n",
       "    <tr>\n",
       "      <th>P&amp;G CORP</th>\n",
       "      <td>6.867448e+07</td>\n",
       "      <td>6.867448e+07</td>\n",
       "      <td>11.0</td>\n",
       "      <td>2</td>\n",
       "    </tr>\n",
       "  </tbody>\n",
       "</table>\n",
       "</div>"
      ],
      "text/plain": [
       "                                       ratio  Mean_Produce  Rank  cluster\n",
       "CHANEL INC                      1.007016e+08  1.007016e+08   5.0        2\n",
       "ESTEE LAUDER INC                3.323089e+08  3.323089e+08   1.0        3\n",
       "COTY CORP                       7.183584e+07  7.183584e+07  10.0        2\n",
       "UNILEVER CORP                   9.295927e+07  9.295927e+07   7.0        2\n",
       "LOREAL SA                       9.953314e+07  9.953314e+07   6.0        2\n",
       "LOREAL INC                      2.534066e+08  2.534066e+08   3.0        1\n",
       "LOREAL USA                      1.354353e+05  1.354353e+05  14.0        0\n",
       "LOREAL SA CORP                  2.777640e+08  2.777640e+08   2.0        1\n",
       "JOHNSON & JOHNSON               7.235039e+07  7.235039e+07   9.0        2\n",
       "PROCTER & GAMBLE COMPANY        1.029952e+08  1.029952e+08   4.0        2\n",
       "PRIVATE LABEL                   6.281262e+07  6.281262e+07  12.0        2\n",
       "REVLON CORP                     8.664487e+07  8.664487e+07   8.0        2\n",
       "MACANDREWS FORBES HOLDINGS INC  5.195258e+05  5.195258e+05  13.0        0\n",
       "HELEN OF TROY LTD               2.666864e+03  2.666864e+03  15.0        0\n",
       "P&G CORP                        6.867448e+07  6.867448e+07  11.0        2"
      ]
     },
     "execution_count": 47,
     "metadata": {},
     "output_type": "execute_result"
    }
   ],
   "source": [
    "new_df['cluster'] = kmeans.labels_\n",
    "new_df"
   ]
  },
  {
   "cell_type": "code",
   "execution_count": 48,
   "metadata": {},
   "outputs": [
    {
     "ename": "KeyError",
     "evalue": "'Revenue'",
     "output_type": "error",
     "traceback": [
      "\u001b[0;31m---------------------------------------------------------------------------\u001b[0m",
      "\u001b[0;31mKeyError\u001b[0m                                  Traceback (most recent call last)",
      "\u001b[0;32m~/anaconda3/lib/python3.7/site-packages/pandas/core/indexes/base.py\u001b[0m in \u001b[0;36mget_loc\u001b[0;34m(self, key, method, tolerance)\u001b[0m\n\u001b[1;32m   2896\u001b[0m             \u001b[0;32mtry\u001b[0m\u001b[0;34m:\u001b[0m\u001b[0;34m\u001b[0m\u001b[0;34m\u001b[0m\u001b[0m\n\u001b[0;32m-> 2897\u001b[0;31m                 \u001b[0;32mreturn\u001b[0m \u001b[0mself\u001b[0m\u001b[0;34m.\u001b[0m\u001b[0m_engine\u001b[0m\u001b[0;34m.\u001b[0m\u001b[0mget_loc\u001b[0m\u001b[0;34m(\u001b[0m\u001b[0mkey\u001b[0m\u001b[0;34m)\u001b[0m\u001b[0;34m\u001b[0m\u001b[0;34m\u001b[0m\u001b[0m\n\u001b[0m\u001b[1;32m   2898\u001b[0m             \u001b[0;32mexcept\u001b[0m \u001b[0mKeyError\u001b[0m\u001b[0;34m:\u001b[0m\u001b[0;34m\u001b[0m\u001b[0;34m\u001b[0m\u001b[0m\n",
      "\u001b[0;32mpandas/_libs/index.pyx\u001b[0m in \u001b[0;36mpandas._libs.index.IndexEngine.get_loc\u001b[0;34m()\u001b[0m\n",
      "\u001b[0;32mpandas/_libs/index.pyx\u001b[0m in \u001b[0;36mpandas._libs.index.IndexEngine.get_loc\u001b[0;34m()\u001b[0m\n",
      "\u001b[0;32mpandas/_libs/hashtable_class_helper.pxi\u001b[0m in \u001b[0;36mpandas._libs.hashtable.PyObjectHashTable.get_item\u001b[0;34m()\u001b[0m\n",
      "\u001b[0;32mpandas/_libs/hashtable_class_helper.pxi\u001b[0m in \u001b[0;36mpandas._libs.hashtable.PyObjectHashTable.get_item\u001b[0;34m()\u001b[0m\n",
      "\u001b[0;31mKeyError\u001b[0m: 'Revenue'",
      "\nDuring handling of the above exception, another exception occurred:\n",
      "\u001b[0;31mKeyError\u001b[0m                                  Traceback (most recent call last)",
      "\u001b[0;32m<ipython-input-48-3c512bae3ebc>\u001b[0m in \u001b[0;36m<module>\u001b[0;34m\u001b[0m\n\u001b[1;32m      1\u001b[0m \u001b[0;32mimport\u001b[0m \u001b[0mseaborn\u001b[0m \u001b[0;32mas\u001b[0m \u001b[0msns\u001b[0m\u001b[0;34m\u001b[0m\u001b[0;34m\u001b[0m\u001b[0m\n\u001b[1;32m      2\u001b[0m \u001b[0mplt\u001b[0m\u001b[0;34m.\u001b[0m\u001b[0mfigure\u001b[0m\u001b[0;34m(\u001b[0m\u001b[0mfigsize\u001b[0m\u001b[0;34m=\u001b[0m\u001b[0;34m(\u001b[0m\u001b[0;36m12\u001b[0m\u001b[0;34m,\u001b[0m\u001b[0;36m7\u001b[0m\u001b[0;34m)\u001b[0m\u001b[0;34m)\u001b[0m\u001b[0;34m\u001b[0m\u001b[0;34m\u001b[0m\u001b[0m\n\u001b[0;32m----> 3\u001b[0;31m \u001b[0maxis\u001b[0m \u001b[0;34m=\u001b[0m \u001b[0msns\u001b[0m\u001b[0;34m.\u001b[0m\u001b[0mbarplot\u001b[0m\u001b[0;34m(\u001b[0m\u001b[0mx\u001b[0m\u001b[0;34m=\u001b[0m\u001b[0mnp\u001b[0m\u001b[0;34m.\u001b[0m\u001b[0marange\u001b[0m\u001b[0;34m(\u001b[0m\u001b[0;36m0\u001b[0m\u001b[0;34m,\u001b[0m\u001b[0;36m4\u001b[0m\u001b[0;34m,\u001b[0m\u001b[0;36m1\u001b[0m\u001b[0;34m)\u001b[0m\u001b[0;34m,\u001b[0m\u001b[0my\u001b[0m\u001b[0;34m=\u001b[0m\u001b[0mnew_df\u001b[0m\u001b[0;34m.\u001b[0m\u001b[0mgroupby\u001b[0m\u001b[0;34m(\u001b[0m\u001b[0;34m[\u001b[0m\u001b[0;34m'cluster'\u001b[0m\u001b[0;34m]\u001b[0m\u001b[0;34m)\u001b[0m\u001b[0;34m.\u001b[0m\u001b[0mcount\u001b[0m\u001b[0;34m(\u001b[0m\u001b[0;34m)\u001b[0m\u001b[0;34m[\u001b[0m\u001b[0;34m'Revenue'\u001b[0m\u001b[0;34m]\u001b[0m\u001b[0;34m.\u001b[0m\u001b[0mvalues\u001b[0m\u001b[0;34m)\u001b[0m\u001b[0;34m\u001b[0m\u001b[0;34m\u001b[0m\u001b[0m\n\u001b[0m\u001b[1;32m      4\u001b[0m \u001b[0mx\u001b[0m\u001b[0;34m=\u001b[0m\u001b[0maxis\u001b[0m\u001b[0;34m.\u001b[0m\u001b[0mset_xlabel\u001b[0m\u001b[0;34m(\u001b[0m\u001b[0;34m\"Cluster Number\"\u001b[0m\u001b[0;34m)\u001b[0m\u001b[0;34m\u001b[0m\u001b[0;34m\u001b[0m\u001b[0m\n\u001b[1;32m      5\u001b[0m \u001b[0mx\u001b[0m\u001b[0;34m=\u001b[0m\u001b[0maxis\u001b[0m\u001b[0;34m.\u001b[0m\u001b[0mset_ylabel\u001b[0m\u001b[0;34m(\u001b[0m\u001b[0;34m\"Number of movies\"\u001b[0m\u001b[0;34m)\u001b[0m\u001b[0;34m\u001b[0m\u001b[0;34m\u001b[0m\u001b[0m\n",
      "\u001b[0;32m~/anaconda3/lib/python3.7/site-packages/pandas/core/frame.py\u001b[0m in \u001b[0;36m__getitem__\u001b[0;34m(self, key)\u001b[0m\n\u001b[1;32m   2993\u001b[0m             \u001b[0;32mif\u001b[0m \u001b[0mself\u001b[0m\u001b[0;34m.\u001b[0m\u001b[0mcolumns\u001b[0m\u001b[0;34m.\u001b[0m\u001b[0mnlevels\u001b[0m \u001b[0;34m>\u001b[0m \u001b[0;36m1\u001b[0m\u001b[0;34m:\u001b[0m\u001b[0;34m\u001b[0m\u001b[0;34m\u001b[0m\u001b[0m\n\u001b[1;32m   2994\u001b[0m                 \u001b[0;32mreturn\u001b[0m \u001b[0mself\u001b[0m\u001b[0;34m.\u001b[0m\u001b[0m_getitem_multilevel\u001b[0m\u001b[0;34m(\u001b[0m\u001b[0mkey\u001b[0m\u001b[0;34m)\u001b[0m\u001b[0;34m\u001b[0m\u001b[0;34m\u001b[0m\u001b[0m\n\u001b[0;32m-> 2995\u001b[0;31m             \u001b[0mindexer\u001b[0m \u001b[0;34m=\u001b[0m \u001b[0mself\u001b[0m\u001b[0;34m.\u001b[0m\u001b[0mcolumns\u001b[0m\u001b[0;34m.\u001b[0m\u001b[0mget_loc\u001b[0m\u001b[0;34m(\u001b[0m\u001b[0mkey\u001b[0m\u001b[0;34m)\u001b[0m\u001b[0;34m\u001b[0m\u001b[0;34m\u001b[0m\u001b[0m\n\u001b[0m\u001b[1;32m   2996\u001b[0m             \u001b[0;32mif\u001b[0m \u001b[0mis_integer\u001b[0m\u001b[0;34m(\u001b[0m\u001b[0mindexer\u001b[0m\u001b[0;34m)\u001b[0m\u001b[0;34m:\u001b[0m\u001b[0;34m\u001b[0m\u001b[0;34m\u001b[0m\u001b[0m\n\u001b[1;32m   2997\u001b[0m                 \u001b[0mindexer\u001b[0m \u001b[0;34m=\u001b[0m \u001b[0;34m[\u001b[0m\u001b[0mindexer\u001b[0m\u001b[0;34m]\u001b[0m\u001b[0;34m\u001b[0m\u001b[0;34m\u001b[0m\u001b[0m\n",
      "\u001b[0;32m~/anaconda3/lib/python3.7/site-packages/pandas/core/indexes/base.py\u001b[0m in \u001b[0;36mget_loc\u001b[0;34m(self, key, method, tolerance)\u001b[0m\n\u001b[1;32m   2897\u001b[0m                 \u001b[0;32mreturn\u001b[0m \u001b[0mself\u001b[0m\u001b[0;34m.\u001b[0m\u001b[0m_engine\u001b[0m\u001b[0;34m.\u001b[0m\u001b[0mget_loc\u001b[0m\u001b[0;34m(\u001b[0m\u001b[0mkey\u001b[0m\u001b[0;34m)\u001b[0m\u001b[0;34m\u001b[0m\u001b[0;34m\u001b[0m\u001b[0m\n\u001b[1;32m   2898\u001b[0m             \u001b[0;32mexcept\u001b[0m \u001b[0mKeyError\u001b[0m\u001b[0;34m:\u001b[0m\u001b[0;34m\u001b[0m\u001b[0;34m\u001b[0m\u001b[0m\n\u001b[0;32m-> 2899\u001b[0;31m                 \u001b[0;32mreturn\u001b[0m \u001b[0mself\u001b[0m\u001b[0;34m.\u001b[0m\u001b[0m_engine\u001b[0m\u001b[0;34m.\u001b[0m\u001b[0mget_loc\u001b[0m\u001b[0;34m(\u001b[0m\u001b[0mself\u001b[0m\u001b[0;34m.\u001b[0m\u001b[0m_maybe_cast_indexer\u001b[0m\u001b[0;34m(\u001b[0m\u001b[0mkey\u001b[0m\u001b[0;34m)\u001b[0m\u001b[0;34m)\u001b[0m\u001b[0;34m\u001b[0m\u001b[0;34m\u001b[0m\u001b[0m\n\u001b[0m\u001b[1;32m   2900\u001b[0m         \u001b[0mindexer\u001b[0m \u001b[0;34m=\u001b[0m \u001b[0mself\u001b[0m\u001b[0;34m.\u001b[0m\u001b[0mget_indexer\u001b[0m\u001b[0;34m(\u001b[0m\u001b[0;34m[\u001b[0m\u001b[0mkey\u001b[0m\u001b[0;34m]\u001b[0m\u001b[0;34m,\u001b[0m \u001b[0mmethod\u001b[0m\u001b[0;34m=\u001b[0m\u001b[0mmethod\u001b[0m\u001b[0;34m,\u001b[0m \u001b[0mtolerance\u001b[0m\u001b[0;34m=\u001b[0m\u001b[0mtolerance\u001b[0m\u001b[0;34m)\u001b[0m\u001b[0;34m\u001b[0m\u001b[0;34m\u001b[0m\u001b[0m\n\u001b[1;32m   2901\u001b[0m         \u001b[0;32mif\u001b[0m \u001b[0mindexer\u001b[0m\u001b[0;34m.\u001b[0m\u001b[0mndim\u001b[0m \u001b[0;34m>\u001b[0m \u001b[0;36m1\u001b[0m \u001b[0;32mor\u001b[0m \u001b[0mindexer\u001b[0m\u001b[0;34m.\u001b[0m\u001b[0msize\u001b[0m \u001b[0;34m>\u001b[0m \u001b[0;36m1\u001b[0m\u001b[0;34m:\u001b[0m\u001b[0;34m\u001b[0m\u001b[0;34m\u001b[0m\u001b[0m\n",
      "\u001b[0;32mpandas/_libs/index.pyx\u001b[0m in \u001b[0;36mpandas._libs.index.IndexEngine.get_loc\u001b[0;34m()\u001b[0m\n",
      "\u001b[0;32mpandas/_libs/index.pyx\u001b[0m in \u001b[0;36mpandas._libs.index.IndexEngine.get_loc\u001b[0;34m()\u001b[0m\n",
      "\u001b[0;32mpandas/_libs/hashtable_class_helper.pxi\u001b[0m in \u001b[0;36mpandas._libs.hashtable.PyObjectHashTable.get_item\u001b[0;34m()\u001b[0m\n",
      "\u001b[0;32mpandas/_libs/hashtable_class_helper.pxi\u001b[0m in \u001b[0;36mpandas._libs.hashtable.PyObjectHashTable.get_item\u001b[0;34m()\u001b[0m\n",
      "\u001b[0;31mKeyError\u001b[0m: 'Revenue'"
     ]
    },
    {
     "data": {
      "text/plain": [
       "<Figure size 864x504 with 0 Axes>"
      ]
     },
     "metadata": {},
     "output_type": "display_data"
    }
   ],
   "source": [
    "import seaborn as sns\n",
    "plt.figure(figsize=(12,7))\n",
    "axis = sns.barplot(x=np.arange(0,4,1),y=new_df.groupby(['cluster']).count()['Revenue'].values)\n",
    "x=axis.set_xlabel(\"Cluster Number\")\n",
    "x=axis.set_ylabel(\"Number of movies\")"
   ]
  },
  {
   "cell_type": "code",
   "execution_count": 32,
   "metadata": {},
   "outputs": [
    {
     "data": {
      "text/plain": [
       "<matplotlib.axes._subplots.AxesSubplot at 0x1a26efe5c0>"
      ]
     },
     "execution_count": 32,
     "metadata": {},
     "output_type": "execute_result"
    },
    {
     "data": {
      "image/png": "[encoded data removed]",
      "text/plain": [
       "<Figure size 432x288 with 1 Axes>"
      ]
     },
     "metadata": {
      "needs_background": "light"
     },
     "output_type": "display_data"
    }
   ],
   "source": [
    "sns.swarmplot(new_df.cluster,new_df.Revenue)"
   ]
  },
  {
   "cell_type": "code",
   "execution_count": 49,
   "metadata": {},
   "outputs": [
    {
     "name": "stdout",
     "output_type": "stream",
     "text": [
      "[3, 2, 9, 1]\n"
     ]
    }
   ],
   "source": [
    "size_array = list(new_df.groupby(['cluster']).count()['ratio'].values)\n",
    "print(size_array)\n",
    "# size_array.sort()\n",
    "# size_array\n"
   ]
  },
  {
   "cell_type": "code",
   "execution_count": 50,
   "metadata": {
    "scrolled": true
   },
   "outputs": [
    {
     "name": "stdout",
     "output_type": "stream",
     "text": [
      "0\n",
      "3\n",
      "@@@@ 0\n",
      "$$$ 3\n",
      "                                        ratio   Mean_Produce  Rank  cluster\n",
      "MACANDREWS FORBES HOLDINGS INC  519525.794543  519525.794543  13.0        0\n",
      "HELEN OF TROY LTD                 2666.863857    2666.863857  15.0        0\n",
      "LOREAL USA                      135435.295517  135435.295517  14.0        0\n",
      "{'ratio': {'MACANDREWS FORBES HOLDINGS INC': 519525.79454304936, 'HELEN OF TROY LTD': 2666.863856769048, 'LOREAL USA': 135435.29551712738}, 'Mean_Produce': {'MACANDREWS FORBES HOLDINGS INC': 519525.79454304936, 'HELEN OF TROY LTD': 2666.863856769048, 'LOREAL USA': 135435.29551712738}, 'Rank': {'MACANDREWS FORBES HOLDINGS INC': 13.0, 'HELEN OF TROY LTD': 15.0, 'LOREAL USA': 14.0}, 'cluster': {'MACANDREWS FORBES HOLDINGS INC': 0, 'HELEN OF TROY LTD': 0, 'LOREAL USA': 0}}\n",
      "1\n",
      "2\n",
      "@@@@ 1\n",
      "$$$ 2\n",
      "                       ratio  Mean_Produce  Rank  cluster\n",
      "LOREAL SA CORP  2.777640e+08  2.777640e+08   2.0        1\n",
      "LOREAL INC      2.534066e+08  2.534066e+08   3.0        1\n",
      "{'ratio': {'LOREAL SA CORP': 277763970.1942007, 'LOREAL INC': 253406608.5200934}, 'Mean_Produce': {'LOREAL SA CORP': 277763970.1942007, 'LOREAL INC': 253406608.5200934}, 'Rank': {'LOREAL SA CORP': 2.0, 'LOREAL INC': 3.0}, 'cluster': {'LOREAL SA CORP': 1, 'LOREAL INC': 1}}\n",
      "2\n",
      "9\n",
      "@@@@ 2\n",
      "$$$ 9\n",
      "                                 ratio  Mean_Produce  Rank  cluster\n",
      "JOHNSON & JOHNSON         7.235039e+07  7.235039e+07   9.0        2\n",
      "CHANEL INC                1.007016e+08  1.007016e+08   5.0        2\n",
      "REVLON CORP               8.664487e+07  8.664487e+07   8.0        2\n",
      "UNILEVER CORP             9.295927e+07  9.295927e+07   7.0        2\n",
      "COTY CORP                 7.183584e+07  7.183584e+07  10.0        2\n",
      "PRIVATE LABEL             6.281262e+07  6.281262e+07  12.0        2\n",
      "P&G CORP                  6.867448e+07  6.867448e+07  11.0        2\n",
      "LOREAL SA                 9.953314e+07  9.953314e+07   6.0        2\n",
      "PROCTER & GAMBLE COMPANY  1.029952e+08  1.029952e+08   4.0        2\n",
      "{'ratio': {'JOHNSON & JOHNSON': 72350387.24934801, 'CHANEL INC': 100701579.40798967, 'REVLON CORP': 86644869.58539186, 'UNILEVER CORP': 92959266.88842577, 'COTY CORP': 71835840.94523938, 'PRIVATE LABEL': 62812624.48074561, 'P&G CORP': 68674484.04135968, 'LOREAL SA': 99533138.48242053, 'PROCTER & GAMBLE COMPANY': 102995153.29506788}, 'Mean_Produce': {'JOHNSON & JOHNSON': 72350387.24934801, 'CHANEL INC': 100701579.40798967, 'REVLON CORP': 86644869.58539186, 'UNILEVER CORP': 92959266.88842577, 'COTY CORP': 71835840.94523938, 'PRIVATE LABEL': 62812624.48074561, 'P&G CORP': 68674484.04135968, 'LOREAL SA': 99533138.48242053, 'PROCTER & GAMBLE COMPANY': 102995153.29506788}, 'Rank': {'JOHNSON & JOHNSON': 9.0, 'CHANEL INC': 5.0, 'REVLON CORP': 8.0, 'UNILEVER CORP': 7.0, 'COTY CORP': 10.0, 'PRIVATE LABEL': 12.0, 'P&G CORP': 11.0, 'LOREAL SA': 6.0, 'PROCTER & GAMBLE COMPANY': 4.0}, 'cluster': {'JOHNSON & JOHNSON': 2, 'CHANEL INC': 2, 'REVLON CORP': 2, 'UNILEVER CORP': 2, 'COTY CORP': 2, 'PRIVATE LABEL': 2, 'P&G CORP': 2, 'LOREAL SA': 2, 'PROCTER & GAMBLE COMPANY': 2}}\n",
      "3\n",
      "1\n",
      "@@@@ 3\n",
      "$$$ 1\n",
      "                         ratio  Mean_Produce  Rank  cluster\n",
      "ESTEE LAUDER INC  3.323089e+08  3.323089e+08   1.0        3\n",
      "{'ratio': {'ESTEE LAUDER INC': 332308900.1600368}, 'Mean_Produce': {'ESTEE LAUDER INC': 332308900.1600368}, 'Rank': {'ESTEE LAUDER INC': 1.0}, 'cluster': {'ESTEE LAUDER INC': 3}}\n"
     ]
    }
   ],
   "source": [
    "dis = {}\n",
    "for i in range(len(size_array)):\n",
    "    print(i)\n",
    "    x= size_array[i]\n",
    "    print(x)\n",
    "    print(\"@@@@\",size_array.index((size_array)[i]))\n",
    "    print(\"$$$\",(size_array)[i])\n",
    "    new = new_df[new_df['cluster']== i].sample(x, replace=False)\n",
    "    print(new)\n",
    "    dis = new.to_dict()\n",
    "    print(dis)\n",
    "    \n",
    "    "
   ]
  },
  {
   "cell_type": "code",
   "execution_count": 92,
   "metadata": {},
   "outputs": [
    {
     "data": {
      "text/plain": [
       "{'Revenue': {'CHANEL': 1531116934.75,\n",
       "  'REVLON': 1746853677.788,\n",
       "  'COVER GIRL': 1752298319.0,\n",
       "  'ESTEE LAUDER': 1753451362.0,\n",
       "  'LANCOME': 1993707849.1090002,\n",
       "  'MAC': 1416014402.0},\n",
       " 'Price': {'CHANEL': 100701587.0,\n",
       "  'REVLON': 87167060.0,\n",
       "  'COVER GIRL': 71835845.0,\n",
       "  'ESTEE LAUDER': 85466558.0,\n",
       "  'LANCOME': 112893041.0,\n",
       "  'MAC': 85233472.0},\n",
       " 'Mean_Produce': {'CHANEL': 815909260.875,\n",
       "  'REVLON': 917010368.894,\n",
       "  'COVER GIRL': 912067082.0,\n",
       "  'ESTEE LAUDER': 919458960.0,\n",
       "  'LANCOME': 1053300445.0545001,\n",
       "  'MAC': 750623937.0},\n",
       " 'Rank': {'CHANEL': 8.0,\n",
       "  'REVLON': 6.0,\n",
       "  'COVER GIRL': 7.0,\n",
       "  'ESTEE LAUDER': 5.0,\n",
       "  'LANCOME': 4.0,\n",
       "  'MAC': 9.0},\n",
       " 'cluster': {'CHANEL': 3,\n",
       "  'REVLON': 3,\n",
       "  'COVER GIRL': 3,\n",
       "  'ESTEE LAUDER': 3,\n",
       "  'LANCOME': 3,\n",
       "  'MAC': 3}}"
      ]
     },
     "execution_count": 92,
     "metadata": {},
     "output_type": "execute_result"
    }
   ],
   "source": [
    "dis"
   ]
  },
  {
   "cell_type": "code",
   "execution_count": 123,
   "metadata": {},
   "outputs": [],
   "source": [
    "import json\n",
    "\n",
    "# as requested in comment\n",
    "exDict = dis\n",
    "\n",
    "with open('file.txt', 'w') as file:\n",
    "     file.write(json.dumps(exDict))"
   ]
  },
  {
   "cell_type": "code",
   "execution_count": 124,
   "metadata": {},
   "outputs": [
    {
     "data": {
      "text/html": [
       "<div>\n",
       "<style scoped>\n",
       "    .dataframe tbody tr th:only-of-type {\n",
       "        vertical-align: middle;\n",
       "    }\n",
       "\n",
       "    .dataframe tbody tr th {\n",
       "        vertical-align: top;\n",
       "    }\n",
       "\n",
       "    .dataframe thead th {\n",
       "        text-align: right;\n",
       "    }\n",
       "</style>\n",
       "<table border=\"1\" class=\"dataframe\">\n",
       "  <thead>\n",
       "    <tr style=\"text-align: right;\">\n",
       "      <th></th>\n",
       "      <th>Revenue</th>\n",
       "      <th>Units</th>\n",
       "      <th>Mean_Produce</th>\n",
       "      <th>Rank</th>\n",
       "      <th>cluster</th>\n",
       "    </tr>\n",
       "  </thead>\n",
       "  <tbody>\n",
       "    <tr>\n",
       "      <th>URBAN DECAY</th>\n",
       "      <td>1.235282e+09</td>\n",
       "      <td>9536.0</td>\n",
       "      <td>6.176456e+08</td>\n",
       "      <td>10.0</td>\n",
       "      <td>0</td>\n",
       "    </tr>\n",
       "    <tr>\n",
       "      <th>OLAY</th>\n",
       "      <td>9.624620e+08</td>\n",
       "      <td>15296.0</td>\n",
       "      <td>4.812387e+08</td>\n",
       "      <td>18.0</td>\n",
       "      <td>0</td>\n",
       "    </tr>\n",
       "    <tr>\n",
       "      <th>DEGREE</th>\n",
       "      <td>1.065570e+09</td>\n",
       "      <td>6226.0</td>\n",
       "      <td>5.327881e+08</td>\n",
       "      <td>15.0</td>\n",
       "      <td>0</td>\n",
       "    </tr>\n",
       "    <tr>\n",
       "      <th>SECRET</th>\n",
       "      <td>1.032550e+09</td>\n",
       "      <td>7585.0</td>\n",
       "      <td>5.162787e+08</td>\n",
       "      <td>17.0</td>\n",
       "      <td>0</td>\n",
       "    </tr>\n",
       "    <tr>\n",
       "      <th>PRIVATE LABEL</th>\n",
       "      <td>1.077815e+09</td>\n",
       "      <td>41969.0</td>\n",
       "      <td>5.389287e+08</td>\n",
       "      <td>14.0</td>\n",
       "      <td>0</td>\n",
       "    </tr>\n",
       "    <tr>\n",
       "      <th>IT COSMETICS</th>\n",
       "      <td>1.097865e+09</td>\n",
       "      <td>10003.0</td>\n",
       "      <td>5.489375e+08</td>\n",
       "      <td>13.0</td>\n",
       "      <td>0</td>\n",
       "    </tr>\n",
       "    <tr>\n",
       "      <th>PANTENE</th>\n",
       "      <td>9.549141e+08</td>\n",
       "      <td>5221.0</td>\n",
       "      <td>4.774596e+08</td>\n",
       "      <td>19.0</td>\n",
       "      <td>0</td>\n",
       "    </tr>\n",
       "    <tr>\n",
       "      <th>DOVE</th>\n",
       "      <td>1.037733e+09</td>\n",
       "      <td>4930.0</td>\n",
       "      <td>5.188689e+08</td>\n",
       "      <td>16.0</td>\n",
       "      <td>0</td>\n",
       "    </tr>\n",
       "    <tr>\n",
       "      <th>NEUTROGENA</th>\n",
       "      <td>1.146375e+09</td>\n",
       "      <td>24108.0</td>\n",
       "      <td>5.731995e+08</td>\n",
       "      <td>11.0</td>\n",
       "      <td>0</td>\n",
       "    </tr>\n",
       "    <tr>\n",
       "      <th>GARNIER</th>\n",
       "      <td>1.136905e+09</td>\n",
       "      <td>17000.0</td>\n",
       "      <td>5.684612e+08</td>\n",
       "      <td>12.0</td>\n",
       "      <td>0</td>\n",
       "    </tr>\n",
       "  </tbody>\n",
       "</table>\n",
       "</div>"
      ],
      "text/plain": [
       "                    Revenue    Units  Mean_Produce  Rank  cluster\n",
       "URBAN DECAY    1.235282e+09   9536.0  6.176456e+08  10.0        0\n",
       "OLAY           9.624620e+08  15296.0  4.812387e+08  18.0        0\n",
       "DEGREE         1.065570e+09   6226.0  5.327881e+08  15.0        0\n",
       "SECRET         1.032550e+09   7585.0  5.162787e+08  17.0        0\n",
       "PRIVATE LABEL  1.077815e+09  41969.0  5.389287e+08  14.0        0\n",
       "IT COSMETICS   1.097865e+09  10003.0  5.489375e+08  13.0        0\n",
       "PANTENE        9.549141e+08   5221.0  4.774596e+08  19.0        0\n",
       "DOVE           1.037733e+09   4930.0  5.188689e+08  16.0        0\n",
       "NEUTROGENA     1.146375e+09  24108.0  5.731995e+08  11.0        0\n",
       "GARNIER        1.136905e+09  17000.0  5.684612e+08  12.0        0"
      ]
     },
     "execution_count": 124,
     "metadata": {},
     "output_type": "execute_result"
    }
   ],
   "source": [
    "new_df[new_df['cluster']==size_array.index(sorted(size_array)[0])].sample(10)\n"
   ]
  },
  {
   "cell_type": "code",
   "execution_count": 30,
   "metadata": {},
   "outputs": [
    {
     "data": {
      "text/html": [
       "<div>\n",
       "<style scoped>\n",
       "    .dataframe tbody tr th:only-of-type {\n",
       "        vertical-align: middle;\n",
       "    }\n",
       "\n",
       "    .dataframe tbody tr th {\n",
       "        vertical-align: top;\n",
       "    }\n",
       "\n",
       "    .dataframe thead th {\n",
       "        text-align: right;\n",
       "    }\n",
       "</style>\n",
       "<table border=\"1\" class=\"dataframe\">\n",
       "  <thead>\n",
       "    <tr style=\"text-align: right;\">\n",
       "      <th></th>\n",
       "      <th>Revenue</th>\n",
       "      <th>Units</th>\n",
       "      <th>Mean_Produce</th>\n",
       "      <th>Rank</th>\n",
       "      <th>cluster</th>\n",
       "    </tr>\n",
       "  </thead>\n",
       "  <tbody>\n",
       "    <tr>\n",
       "      <th>MAC</th>\n",
       "      <td>1.416014e+09</td>\n",
       "      <td>12269.0</td>\n",
       "      <td>7.080133e+08</td>\n",
       "      <td>9.0</td>\n",
       "      <td>3</td>\n",
       "    </tr>\n",
       "    <tr>\n",
       "      <th>COVER GIRL</th>\n",
       "      <td>1.752298e+09</td>\n",
       "      <td>16156.0</td>\n",
       "      <td>8.761572e+08</td>\n",
       "      <td>6.0</td>\n",
       "      <td>3</td>\n",
       "    </tr>\n",
       "    <tr>\n",
       "      <th>REVLON</th>\n",
       "      <td>1.746854e+09</td>\n",
       "      <td>44258.0</td>\n",
       "      <td>8.734490e+08</td>\n",
       "      <td>7.0</td>\n",
       "      <td>3</td>\n",
       "    </tr>\n",
       "    <tr>\n",
       "      <th>LANCOME</th>\n",
       "      <td>1.993708e+09</td>\n",
       "      <td>22908.0</td>\n",
       "      <td>9.968654e+08</td>\n",
       "      <td>4.0</td>\n",
       "      <td>3</td>\n",
       "    </tr>\n",
       "    <tr>\n",
       "      <th>CHANEL</th>\n",
       "      <td>1.531117e+09</td>\n",
       "      <td>16310.0</td>\n",
       "      <td>7.655666e+08</td>\n",
       "      <td>8.0</td>\n",
       "      <td>3</td>\n",
       "    </tr>\n",
       "    <tr>\n",
       "      <th>ESTEE LAUDER</th>\n",
       "      <td>1.753451e+09</td>\n",
       "      <td>16948.0</td>\n",
       "      <td>8.767342e+08</td>\n",
       "      <td>5.0</td>\n",
       "      <td>3</td>\n",
       "    </tr>\n",
       "  </tbody>\n",
       "</table>\n",
       "</div>"
      ],
      "text/plain": [
       "                   Revenue    Units  Mean_Produce  Rank  cluster\n",
       "MAC           1.416014e+09  12269.0  7.080133e+08   9.0        3\n",
       "COVER GIRL    1.752298e+09  16156.0  8.761572e+08   6.0        3\n",
       "REVLON        1.746854e+09  44258.0  8.734490e+08   7.0        3\n",
       "LANCOME       1.993708e+09  22908.0  9.968654e+08   4.0        3\n",
       "CHANEL        1.531117e+09  16310.0  7.655666e+08   8.0        3\n",
       "ESTEE LAUDER  1.753451e+09  16948.0  8.767342e+08   5.0        3"
      ]
     },
     "execution_count": 30,
     "metadata": {},
     "output_type": "execute_result"
    }
   ],
   "source": [
    "new_df[new_df['cluster']==size_array.index(sorted(size_array)[-1])].sample(6)"
   ]
  },
  {
   "cell_type": "code",
   "execution_count": 35,
   "metadata": {},
   "outputs": [
    {
     "ename": "ValueError",
     "evalue": "Cannot take a larger sample than population when 'replace=False'",
     "output_type": "error",
     "traceback": [
      "\u001b[0;31m---------------------------------------------------------------------------\u001b[0m",
      "\u001b[0;31mValueError\u001b[0m                                Traceback (most recent call last)",
      "\u001b[0;32m<ipython-input-35-03d3dc498a26>\u001b[0m in \u001b[0;36m<module>\u001b[0;34m\u001b[0m\n\u001b[0;32m----> 1\u001b[0;31m \u001b[0mnew_df\u001b[0m\u001b[0;34m[\u001b[0m\u001b[0mnew_df\u001b[0m\u001b[0;34m[\u001b[0m\u001b[0;34m'cluster'\u001b[0m\u001b[0;34m]\u001b[0m\u001b[0;34m==\u001b[0m\u001b[0msize_array\u001b[0m\u001b[0;34m.\u001b[0m\u001b[0mindex\u001b[0m\u001b[0;34m(\u001b[0m\u001b[0msorted\u001b[0m\u001b[0;34m(\u001b[0m\u001b[0msize_array\u001b[0m\u001b[0;34m)\u001b[0m\u001b[0;34m[\u001b[0m\u001b[0;36m1\u001b[0m\u001b[0;34m]\u001b[0m\u001b[0;34m)\u001b[0m\u001b[0;34m]\u001b[0m\u001b[0;34m.\u001b[0m\u001b[0msample\u001b[0m\u001b[0;34m(\u001b[0m\u001b[0;36m9\u001b[0m\u001b[0;34m)\u001b[0m\u001b[0;34m\u001b[0m\u001b[0;34m\u001b[0m\u001b[0m\n\u001b[0m",
      "\u001b[0;32m~/anaconda3/lib/python3.7/site-packages/pandas/core/generic.py\u001b[0m in \u001b[0;36msample\u001b[0;34m(self, n, frac, replace, weights, random_state, axis)\u001b[0m\n\u001b[1;32m   4968\u001b[0m             )\n\u001b[1;32m   4969\u001b[0m \u001b[0;34m\u001b[0m\u001b[0m\n\u001b[0;32m-> 4970\u001b[0;31m         \u001b[0mlocs\u001b[0m \u001b[0;34m=\u001b[0m \u001b[0mrs\u001b[0m\u001b[0;34m.\u001b[0m\u001b[0mchoice\u001b[0m\u001b[0;34m(\u001b[0m\u001b[0maxis_length\u001b[0m\u001b[0;34m,\u001b[0m \u001b[0msize\u001b[0m\u001b[0;34m=\u001b[0m\u001b[0mn\u001b[0m\u001b[0;34m,\u001b[0m \u001b[0mreplace\u001b[0m\u001b[0;34m=\u001b[0m\u001b[0mreplace\u001b[0m\u001b[0;34m,\u001b[0m \u001b[0mp\u001b[0m\u001b[0;34m=\u001b[0m\u001b[0mweights\u001b[0m\u001b[0;34m)\u001b[0m\u001b[0;34m\u001b[0m\u001b[0;34m\u001b[0m\u001b[0m\n\u001b[0m\u001b[1;32m   4971\u001b[0m         \u001b[0;32mreturn\u001b[0m \u001b[0mself\u001b[0m\u001b[0;34m.\u001b[0m\u001b[0mtake\u001b[0m\u001b[0;34m(\u001b[0m\u001b[0mlocs\u001b[0m\u001b[0;34m,\u001b[0m \u001b[0maxis\u001b[0m\u001b[0;34m=\u001b[0m\u001b[0maxis\u001b[0m\u001b[0;34m,\u001b[0m \u001b[0mis_copy\u001b[0m\u001b[0;34m=\u001b[0m\u001b[0;32mFalse\u001b[0m\u001b[0;34m)\u001b[0m\u001b[0;34m\u001b[0m\u001b[0;34m\u001b[0m\u001b[0m\n\u001b[1;32m   4972\u001b[0m \u001b[0;34m\u001b[0m\u001b[0m\n",
      "\u001b[0;32mmtrand.pyx\u001b[0m in \u001b[0;36mnumpy.random.mtrand.RandomState.choice\u001b[0;34m()\u001b[0m\n",
      "\u001b[0;31mValueError\u001b[0m: Cannot take a larger sample than population when 'replace=False'"
     ]
    }
   ],
   "source": [
    "new_df[new_df['cluster']==size_array.index(sorted(size_array)[1])].sample(9)"
   ]
  },
  {
   "cell_type": "code",
   "execution_count": 33,
   "metadata": {},
   "outputs": [
    {
     "data": {
      "text/html": [
       "<div>\n",
       "<style scoped>\n",
       "    .dataframe tbody tr th:only-of-type {\n",
       "        vertical-align: middle;\n",
       "    }\n",
       "\n",
       "    .dataframe tbody tr th {\n",
       "        vertical-align: top;\n",
       "    }\n",
       "\n",
       "    .dataframe thead th {\n",
       "        text-align: right;\n",
       "    }\n",
       "</style>\n",
       "<table border=\"1\" class=\"dataframe\">\n",
       "  <thead>\n",
       "    <tr style=\"text-align: right;\">\n",
       "      <th></th>\n",
       "      <th>Revenue</th>\n",
       "      <th>Units</th>\n",
       "      <th>Mean_Produce</th>\n",
       "      <th>Rank</th>\n",
       "      <th>cluster</th>\n",
       "    </tr>\n",
       "  </thead>\n",
       "  <tbody>\n",
       "    <tr>\n",
       "      <th>LOREAL</th>\n",
       "      <td>3.899134e+09</td>\n",
       "      <td>40094.0</td>\n",
       "      <td>1.949587e+09</td>\n",
       "      <td>1.0</td>\n",
       "      <td>2</td>\n",
       "    </tr>\n",
       "  </tbody>\n",
       "</table>\n",
       "</div>"
      ],
      "text/plain": [
       "             Revenue    Units  Mean_Produce  Rank  cluster\n",
       "LOREAL  3.899134e+09  40094.0  1.949587e+09   1.0        2"
      ]
     },
     "execution_count": 33,
     "metadata": {},
     "output_type": "execute_result"
    }
   ],
   "source": [
    "new_df[new_df['cluster']==size_array.index(sorted(size_array)[2])].sample(1)"
   ]
  },
  {
   "cell_type": "code",
   "execution_count": 290,
   "metadata": {},
   "outputs": [
    {
     "data": {
      "image/png": "[encoded data removed]",
      "text/plain": [
       "<Figure size 432x288 with 1 Axes>"
      ]
     },
     "metadata": {
      "needs_background": "light"
     },
     "output_type": "display_data"
    }
   ],
   "source": [
    "plt.scatter(X[y_kmeans == 0, 0], X[y_kmeans == 0,1],s=200,c='red',label='Brand 1')\n",
    "plt.scatter(X[y_kmeans == 1, 0], X[y_kmeans == 1,1],s=200,c='blue',label='Brand 2')\n",
    "plt.scatter(X[y_kmeans == 2, 0], X[y_kmeans == 2,1],s=200,c='green',label='Brand 3')\n",
    "plt.scatter(X[y_kmeans == 3, 0], X[y_kmeans == 3,1],s=200,c='black',label='Brand 4')\n",
    "\n",
    "\n",
    "plt.title('Clusters of brand names using metrics')\n",
    "plt.xlabel('Revenue')\n",
    "plt.ylabel('Units')\n",
    "plt.legend()\n",
    "plt.show()"
   ]
  },
  {
   "cell_type": "code",
   "execution_count": 28,
   "metadata": {},
   "outputs": [
    {
     "data": {
      "text/plain": [
       "<matplotlib.collections.PathCollection at 0x11ffe5208>"
      ]
     },
     "execution_count": 28,
     "metadata": {},
     "output_type": "execute_result"
    },
    {
     "data": {
      "image/png": "[encoded data removed]",
      "text/plain": [
       "<Figure size 432x288 with 1 Axes>"
      ]
     },
     "metadata": {
      "needs_background": "light"
     },
     "output_type": "display_data"
    }
   ],
   "source": [
    "plt.scatter(X[:, 0], X[:, 1], c=y_kmeans, s=50, cmap='viridis')\n",
    "\n",
    "centers = kmeans.cluster_centers_\n",
    "plt.scatter(centers[:, 0], centers[:, 1], c='black', s=200, alpha=0.5)"
   ]
  },
  {
   "cell_type": "code",
   "execution_count": 198,
   "metadata": {},
   "outputs": [
    {
     "data": {
      "text/plain": [
       "array([0, 0, 0, ..., 0, 0, 0], dtype=int32)"
      ]
     },
     "execution_count": 198,
     "metadata": {},
     "output_type": "execute_result"
    }
   ],
   "source": [
    "y_means"
   ]
  },
  {
   "cell_type": "code",
   "execution_count": 199,
   "metadata": {},
   "outputs": [],
   "source": [
    "#######K means using pCs\n",
    "\n",
    "from sklearn.decomposition import PCA\n",
    "from sklearn.datasets import load_iris\n",
    "iris = load_iris()"
   ]
  },
  {
   "cell_type": "code",
   "execution_count": 201,
   "metadata": {},
   "outputs": [],
   "source": [
    "pca = PCA(n_components=2).fit(iris.data)\n",
    "pca_2d = pca.transform(iris.data)"
   ]
  },
  {
   "cell_type": "code",
   "execution_count": 204,
   "metadata": {},
   "outputs": [],
   "source": [
    "import pylab as pl"
   ]
  },
  {
   "cell_type": "code",
   "execution_count": 210,
   "metadata": {},
   "outputs": [
    {
     "data": {
      "image/png": "[encoded data removed]",
      "text/plain": [
       "<Figure size 432x288 with 1 Axes>"
      ]
     },
     "metadata": {
      "needs_background": "light"
     },
     "output_type": "display_data"
    }
   ],
   "source": [
    "for i in range(0, pca_2d.shape[0]):\n",
    "    if iris.target[i] == 0:\n",
    "        c1 = pl.scatter(pca_2d[i,0],pca_2d[i,1],c='r',\n",
    "         marker='+')\n",
    "    elif iris.target[i] == 1:\n",
    "        c2 = pl.scatter(pca_2d[i,0],pca_2d[i,1],c='g',\n",
    "            marker='o')\n",
    "    elif iris.target[i] == 2:\n",
    "        c3 = pl.scatter(pca_2d[i,0],pca_2d[i,1],c='b',\n",
    "            marker='*')\n",
    "pl.legend([c1, c2, c3], ['Setosa', 'Versicolor',\n",
    "    'Virginica'])\n",
    "pl.title('Iris dataset with 3 clusters and knownoutcomes')\n",
    "pl.show()"
   ]
  },
  {
   "cell_type": "code",
   "execution_count": 207,
   "metadata": {},
   "outputs": [
    {
     "data": {
      "text/plain": [
       "150"
      ]
     },
     "execution_count": 207,
     "metadata": {},
     "output_type": "execute_result"
    }
   ],
   "source": []
  },
  {
   "cell_type": "code",
   "execution_count": 15,
   "metadata": {},
   "outputs": [],
   "source": [
    "we = [{'name': 'FillRate', 'function': 'mean', 'business_friendly_name': 'Fill Rate', 'display_format': '@'}, {'name': 'FillRate', 'function': 'mean', 'business_friendly_name': 'Fill Rate', 'display_format': '&'}]\n",
    "fish_list = [fish for fish in we if fish['display_format'] == '%']"
   ]
  },
  {
   "cell_type": "code",
   "execution_count": 16,
   "metadata": {},
   "outputs": [
    {
     "data": {
      "text/plain": [
       "[]"
      ]
     },
     "execution_count": 16,
     "metadata": {},
     "output_type": "execute_result"
    }
   ],
   "source": [
    "fish_list"
   ]
  },
  {
   "cell_type": "code",
   "execution_count": 71,
   "metadata": {},
   "outputs": [],
   "source": []
  },
  {
   "cell_type": "code",
   "execution_count": 91,
   "metadata": {},
   "outputs": [],
   "source": [
    "import random\n",
    "import string as st\n",
    "passward = ''.join(random.choices(st.ascii_letters + st.digits, k =14))"
   ]
  },
  {
   "cell_type": "code",
   "execution_count": 92,
   "metadata": {},
   "outputs": [
    {
     "data": {
      "text/plain": [
       "'hAThTWlZK1dbSL'"
      ]
     },
     "execution_count": 92,
     "metadata": {},
     "output_type": "execute_result"
    }
   ],
   "source": [
    "passward\n"
   ]
  },
  {
   "cell_type": "code",
   "execution_count": 182,
   "metadata": {},
   "outputs": [],
   "source": [
    "import pandas_profiling"
   ]
  },
  {
   "cell_type": "code",
   "execution_count": 183,
   "metadata": {},
   "outputs": [],
   "source": [
    "df = pd.read_csv(\"/Users/shyam.muralidharan/Downloads/Revlon Dataset Updated Aug 2019.csv\")"
   ]
  },
  {
   "cell_type": "code",
   "execution_count": 184,
   "metadata": {},
   "outputs": [
    {
     "name": "stderr",
     "output_type": "stream",
     "text": [
      "/Users/shyam.muralidharan/anaconda3/lib/python3.7/site-packages/pandas_profiling/describe.py:392: FutureWarning: The join_axes-keyword is deprecated. Use .reindex or .reindex_like on the result to achieve the same functionality.\n",
      "  variable_stats = pd.concat(ldesc, join_axes=pd.Index([names]), axis=1)\n"
     ]
    }
   ],
   "source": [
    "profile = pandas_profiling.ProfileReport(df)"
   ]
  },
  {
   "cell_type": "code",
   "execution_count": 185,
   "metadata": {},
   "outputs": [],
   "source": [
    "profile.to_file(outputfile=\"./report.html\")"
   ]
  },
  {
   "cell_type": "code",
   "execution_count": 188,
   "metadata": {},
   "outputs": [
    {
     "ename": "ValueError",
     "evalue": "No tables found",
     "output_type": "error",
     "traceback": [
      "\u001b[0;31m---------------------------------------------------------------------------\u001b[0m",
      "\u001b[0;31mValueError\u001b[0m                                Traceback (most recent call last)",
      "\u001b[0;32m<ipython-input-188-f15f843916e6>\u001b[0m in \u001b[0;36m<module>\u001b[0;34m\u001b[0m\n\u001b[0;32m----> 1\u001b[0;31m \u001b[0mdata1\u001b[0m \u001b[0;34m=\u001b[0m \u001b[0mpd\u001b[0m\u001b[0;34m.\u001b[0m\u001b[0mread_html\u001b[0m\u001b[0;34m(\u001b[0m\u001b[0;34m'/Users/shyam.muralidharan/Downloads/report.html'\u001b[0m\u001b[0;34m)\u001b[0m\u001b[0;34m[\u001b[0m\u001b[0;36m0\u001b[0m\u001b[0;34m]\u001b[0m\u001b[0;34m\u001b[0m\u001b[0;34m\u001b[0m\u001b[0m\n\u001b[0m",
      "\u001b[0;32m~/anaconda3/lib/python3.7/site-packages/pandas/io/html.py\u001b[0m in \u001b[0;36mread_html\u001b[0;34m(io, match, flavor, header, index_col, skiprows, attrs, parse_dates, thousands, encoding, decimal, converters, na_values, keep_default_na, displayed_only)\u001b[0m\n\u001b[1;32m   1103\u001b[0m         \u001b[0mna_values\u001b[0m\u001b[0;34m=\u001b[0m\u001b[0mna_values\u001b[0m\u001b[0;34m,\u001b[0m\u001b[0;34m\u001b[0m\u001b[0;34m\u001b[0m\u001b[0m\n\u001b[1;32m   1104\u001b[0m         \u001b[0mkeep_default_na\u001b[0m\u001b[0;34m=\u001b[0m\u001b[0mkeep_default_na\u001b[0m\u001b[0;34m,\u001b[0m\u001b[0;34m\u001b[0m\u001b[0;34m\u001b[0m\u001b[0m\n\u001b[0;32m-> 1105\u001b[0;31m         \u001b[0mdisplayed_only\u001b[0m\u001b[0;34m=\u001b[0m\u001b[0mdisplayed_only\u001b[0m\u001b[0;34m,\u001b[0m\u001b[0;34m\u001b[0m\u001b[0;34m\u001b[0m\u001b[0m\n\u001b[0m\u001b[1;32m   1106\u001b[0m     )\n",
      "\u001b[0;32m~/anaconda3/lib/python3.7/site-packages/pandas/io/html.py\u001b[0m in \u001b[0;36m_parse\u001b[0;34m(flavor, io, match, attrs, encoding, displayed_only, **kwargs)\u001b[0m\n\u001b[1;32m    910\u001b[0m             \u001b[0;32mbreak\u001b[0m\u001b[0;34m\u001b[0m\u001b[0;34m\u001b[0m\u001b[0m\n\u001b[1;32m    911\u001b[0m     \u001b[0;32melse\u001b[0m\u001b[0;34m:\u001b[0m\u001b[0;34m\u001b[0m\u001b[0;34m\u001b[0m\u001b[0m\n\u001b[0;32m--> 912\u001b[0;31m         \u001b[0mraise_with_traceback\u001b[0m\u001b[0;34m(\u001b[0m\u001b[0mretained\u001b[0m\u001b[0;34m)\u001b[0m\u001b[0;34m\u001b[0m\u001b[0;34m\u001b[0m\u001b[0m\n\u001b[0m\u001b[1;32m    913\u001b[0m \u001b[0;34m\u001b[0m\u001b[0m\n\u001b[1;32m    914\u001b[0m     \u001b[0mret\u001b[0m \u001b[0;34m=\u001b[0m \u001b[0;34m[\u001b[0m\u001b[0;34m]\u001b[0m\u001b[0;34m\u001b[0m\u001b[0;34m\u001b[0m\u001b[0m\n",
      "\u001b[0;32m~/anaconda3/lib/python3.7/site-packages/pandas/compat/__init__.py\u001b[0m in \u001b[0;36mraise_with_traceback\u001b[0;34m(exc, traceback)\u001b[0m\n\u001b[1;32m     45\u001b[0m     \u001b[0;32mif\u001b[0m \u001b[0mtraceback\u001b[0m \u001b[0;34m==\u001b[0m \u001b[0mEllipsis\u001b[0m\u001b[0;34m:\u001b[0m\u001b[0;34m\u001b[0m\u001b[0;34m\u001b[0m\u001b[0m\n\u001b[1;32m     46\u001b[0m         \u001b[0m_\u001b[0m\u001b[0;34m,\u001b[0m \u001b[0m_\u001b[0m\u001b[0;34m,\u001b[0m \u001b[0mtraceback\u001b[0m \u001b[0;34m=\u001b[0m \u001b[0msys\u001b[0m\u001b[0;34m.\u001b[0m\u001b[0mexc_info\u001b[0m\u001b[0;34m(\u001b[0m\u001b[0;34m)\u001b[0m\u001b[0;34m\u001b[0m\u001b[0;34m\u001b[0m\u001b[0m\n\u001b[0;32m---> 47\u001b[0;31m     \u001b[0;32mraise\u001b[0m \u001b[0mexc\u001b[0m\u001b[0;34m.\u001b[0m\u001b[0mwith_traceback\u001b[0m\u001b[0;34m(\u001b[0m\u001b[0mtraceback\u001b[0m\u001b[0;34m)\u001b[0m\u001b[0;34m\u001b[0m\u001b[0;34m\u001b[0m\u001b[0m\n\u001b[0m\u001b[1;32m     48\u001b[0m \u001b[0;34m\u001b[0m\u001b[0m\n\u001b[1;32m     49\u001b[0m \u001b[0;34m\u001b[0m\u001b[0m\n",
      "\u001b[0;31mValueError\u001b[0m: No tables found"
     ]
    }
   ],
   "source": []
  },
  {
   "cell_type": "code",
   "execution_count": 11,
   "metadata": {},
   "outputs": [],
   "source": [
    "df = pd.read_csv(\"/Users/shyam.muralidharan/Downloads/Revlon Dataset Updated Aug 2019.csv\")"
   ]
  },
  {
   "cell_type": "code",
   "execution_count": 12,
   "metadata": {},
   "outputs": [],
   "source": [
    "df['year'] = pd.DatetimeIndex(df['Date']).year"
   ]
  },
  {
   "cell_type": "code",
   "execution_count": 15,
   "metadata": {},
   "outputs": [],
   "source": [
    "is_2018 =  df['year']==2018"
   ]
  },
  {
   "cell_type": "code",
   "execution_count": 17,
   "metadata": {},
   "outputs": [
    {
     "name": "stdout",
     "output_type": "stream",
     "text": [
      "(3300, 11)\n"
     ]
    }
   ],
   "source": [
    "gapminder_2002 = df[is_2018]\n",
    "print(gapminder_2002.shape)"
   ]
  },
  {
   "cell_type": "code",
   "execution_count": 18,
   "metadata": {},
   "outputs": [
    {
     "data": {
      "text/html": [
       "<div>\n",
       "<style scoped>\n",
       "    .dataframe tbody tr th:only-of-type {\n",
       "        vertical-align: middle;\n",
       "    }\n",
       "\n",
       "    .dataframe tbody tr th {\n",
       "        vertical-align: top;\n",
       "    }\n",
       "\n",
       "    .dataframe thead th {\n",
       "        text-align: right;\n",
       "    }\n",
       "</style>\n",
       "<table border=\"1\" class=\"dataframe\">\n",
       "  <thead>\n",
       "    <tr style=\"text-align: right;\">\n",
       "      <th></th>\n",
       "      <th>Channel</th>\n",
       "      <th>Category</th>\n",
       "      <th>Sub Category</th>\n",
       "      <th>Manufacturer</th>\n",
       "      <th>Brand</th>\n",
       "      <th>Revenue</th>\n",
       "      <th>Date</th>\n",
       "      <th>Units</th>\n",
       "      <th>Price</th>\n",
       "      <th>Price Tier</th>\n",
       "      <th>year</th>\n",
       "    </tr>\n",
       "  </thead>\n",
       "  <tbody>\n",
       "    <tr>\n",
       "      <th>65</th>\n",
       "      <td>MASS</td>\n",
       "      <td>FRAG MASS</td>\n",
       "      <td>WOMEN</td>\n",
       "      <td>CHANEL INC</td>\n",
       "      <td>CHANEL</td>\n",
       "      <td>0.0</td>\n",
       "      <td>1/1/2018</td>\n",
       "      <td>82</td>\n",
       "      <td>0</td>\n",
       "      <td>a.less than $25</td>\n",
       "      <td>2018</td>\n",
       "    </tr>\n",
       "    <tr>\n",
       "      <th>66</th>\n",
       "      <td>PRESTIGE</td>\n",
       "      <td>FRAGRANCES</td>\n",
       "      <td>MEN</td>\n",
       "      <td>CHANEL INC</td>\n",
       "      <td>CHANEL</td>\n",
       "      <td>5127128.0</td>\n",
       "      <td>1/1/2018</td>\n",
       "      <td>65</td>\n",
       "      <td>78879</td>\n",
       "      <td>c.$50 - $100</td>\n",
       "      <td>2018</td>\n",
       "    </tr>\n",
       "    <tr>\n",
       "      <th>67</th>\n",
       "      <td>PRESTIGE</td>\n",
       "      <td>FRAGRANCES</td>\n",
       "      <td>WOMEN</td>\n",
       "      <td>CHANEL INC</td>\n",
       "      <td>CHANEL</td>\n",
       "      <td>13733659.0</td>\n",
       "      <td>1/1/2018</td>\n",
       "      <td>49</td>\n",
       "      <td>280279</td>\n",
       "      <td>d.$100+</td>\n",
       "      <td>2018</td>\n",
       "    </tr>\n",
       "    <tr>\n",
       "      <th>68</th>\n",
       "      <td>PRESTIGE</td>\n",
       "      <td>MAKEUP</td>\n",
       "      <td>MAKEUP TOTAL ALL OTHER</td>\n",
       "      <td>CHANEL INC</td>\n",
       "      <td>CHANEL</td>\n",
       "      <td>-424.0</td>\n",
       "      <td>1/1/2018</td>\n",
       "      <td>84</td>\n",
       "      <td>-5</td>\n",
       "      <td>a.less than $25</td>\n",
       "      <td>2018</td>\n",
       "    </tr>\n",
       "    <tr>\n",
       "      <th>69</th>\n",
       "      <td>PRESTIGE</td>\n",
       "      <td>MAKEUP</td>\n",
       "      <td>MAKEUP TOTAL EYE</td>\n",
       "      <td>CHANEL INC</td>\n",
       "      <td>CHANEL</td>\n",
       "      <td>3132009.0</td>\n",
       "      <td>1/1/2018</td>\n",
       "      <td>81</td>\n",
       "      <td>38667</td>\n",
       "      <td>c.$50 - $100</td>\n",
       "      <td>2018</td>\n",
       "    </tr>\n",
       "  </tbody>\n",
       "</table>\n",
       "</div>"
      ],
      "text/plain": [
       "     Channel    Category            Sub Category Manufacturer   Brand  \\\n",
       "65      MASS   FRAG MASS                   WOMEN   CHANEL INC  CHANEL   \n",
       "66  PRESTIGE  FRAGRANCES                     MEN   CHANEL INC  CHANEL   \n",
       "67  PRESTIGE  FRAGRANCES                   WOMEN   CHANEL INC  CHANEL   \n",
       "68  PRESTIGE      MAKEUP  MAKEUP TOTAL ALL OTHER   CHANEL INC  CHANEL   \n",
       "69  PRESTIGE      MAKEUP        MAKEUP TOTAL EYE   CHANEL INC  CHANEL   \n",
       "\n",
       "       Revenue      Date  Units   Price       Price Tier  year  \n",
       "65         0.0  1/1/2018     82       0  a.less than $25  2018  \n",
       "66   5127128.0  1/1/2018     65   78879     c.$50 - $100  2018  \n",
       "67  13733659.0  1/1/2018     49  280279          d.$100+  2018  \n",
       "68      -424.0  1/1/2018     84      -5  a.less than $25  2018  \n",
       "69   3132009.0  1/1/2018     81   38667     c.$50 - $100  2018  "
      ]
     },
     "execution_count": 18,
     "metadata": {},
     "output_type": "execute_result"
    }
   ],
   "source": [
    "gapminder_2002.head()"
   ]
  },
  {
   "cell_type": "code",
   "execution_count": 106,
   "metadata": {},
   "outputs": [
    {
     "name": "stdout",
     "output_type": "stream",
     "text": [
      "True\n",
      "True\n",
      "True\n"
     ]
    }
   ],
   "source": [
    "l= ['cluster', 'clusters','clustering']\n",
    "dims = [\"cluster\",\"clusters\",\"clustering\"]\n",
    "for i in l:\n",
    "    if i in dims:\n",
    "        "
   ]
  },
  {
   "cell_type": "code",
   "execution_count": null,
   "metadata": {},
   "outputs": [],
   "source": []
  }
 ],
 "metadata": {
  "kernelspec": {
   "display_name": "Python 3",
   "language": "python",
   "name": "python3"
  },
  "language_info": {
   "codemirror_mode": {
    "name": "ipython",
    "version": 3
   },
   "file_extension": ".py",
   "mimetype": "text/x-python",
   "name": "python",
   "nbconvert_exporter": "python",
   "pygments_lexer": "ipython3",
   "version": "3.7.3"
  }
 },
 "nbformat": 4,
 "nbformat_minor": 2
}
